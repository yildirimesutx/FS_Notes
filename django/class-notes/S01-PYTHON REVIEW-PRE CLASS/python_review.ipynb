{
 "cells": [
  {
   "cell_type": "code",
   "execution_count": 23,
   "metadata": {},
   "outputs": [
    {
     "name": "stdout",
     "output_type": "stream",
     "text": [
      "12\n"
     ]
    }
   ],
   "source": [
    "a=\"hello, world\"\n",
    "print(len(a))"
   ]
  },
  {
   "cell_type": "code",
   "execution_count": 24,
   "metadata": {},
   "outputs": [
    {
     "name": "stdout",
     "output_type": "stream",
     "text": [
      ",\n"
     ]
    }
   ],
   "source": [
    "print(a[5])"
   ]
  },
  {
   "cell_type": "code",
   "execution_count": 25,
   "metadata": {},
   "outputs": [
    {
     "name": "stdout",
     "output_type": "stream",
     "text": [
      "ell\n"
     ]
    }
   ],
   "source": [
    "print(a[1:4])"
   ]
  },
  {
   "cell_type": "code",
   "execution_count": 26,
   "metadata": {},
   "outputs": [
    {
     "name": "stdout",
     "output_type": "stream",
     "text": [
      "ld\n"
     ]
    }
   ],
   "source": [
    "print(a[2::9])"
   ]
  },
  {
   "cell_type": "code",
   "execution_count": 27,
   "metadata": {},
   "outputs": [
    {
     "name": "stdout",
     "output_type": "stream",
     "text": [
      "lo, world\n"
     ]
    }
   ],
   "source": [
    "print(a[3:])"
   ]
  },
  {
   "cell_type": "code",
   "execution_count": 28,
   "metadata": {},
   "outputs": [
    {
     "name": "stdout",
     "output_type": "stream",
     "text": [
      "dlrow ,olleh\n"
     ]
    }
   ],
   "source": [
    "print(a[::-1])"
   ]
  },
  {
   "cell_type": "code",
   "execution_count": 29,
   "metadata": {},
   "outputs": [
    {
     "name": "stdout",
     "output_type": "stream",
     "text": [
      "hei\n",
      "ponx\n",
      "onx\n",
      "i\n",
      "xnop\n",
      "nix\n",
      "phoe\n"
     ]
    }
   ],
   "source": [
    "a=\"phoenix\"\n",
    "\n",
    "print(a[1::2])\n",
    "print(a[::2])\n",
    "print(a[2::2])\n",
    "print(a[-2::2])\n",
    "print(a[::-2])\n",
    "print(a[-3:])\n",
    "print(a[:-3])\n"
   ]
  },
  {
   "cell_type": "code",
   "execution_count": 30,
   "metadata": {},
   "outputs": [
    {
     "name": "stdout",
     "output_type": "stream",
     "text": [
      "PHOENIX\n",
      "phoenix\n",
      "Phoenix\n",
      "Title\n",
      "Title\n",
      "2\n"
     ]
    }
   ],
   "source": [
    "b=\"Phoenix\"\n",
    "c=\"title\"\n",
    "d=\"title\"\n",
    "\n",
    "print(b.upper()) #dizeyi büyük harfli şekilde döndürür\n",
    "print(b.lower()) # dizeyi küçük harf şeklinde döndürür\n",
    "print(b.title())\n",
    "print(c.title()) # ilk harfi büyük yapar\n",
    "print(d.capitalize()) # ilk harfi büyük yapar\n",
    "print(d.count(\"t\"))"
   ]
  },
  {
   "cell_type": "code",
   "execution_count": 31,
   "metadata": {},
   "outputs": [
    {
     "name": "stdout",
     "output_type": "stream",
     "text": [
      "ol eyyyyy  \n",
      "ol eyyyyy\n"
     ]
    }
   ],
   "source": [
    "string3 = \"ol eyyyyy  \"\n",
    "\n",
    "print(string3.strip(\"y\"))\n",
    "print(string3.strip()) #boşlukları kaldırıp dizeyi yazdırır"
   ]
  },
  {
   "cell_type": "markdown",
   "metadata": {},
   "source": []
  },
  {
   "cell_type": "code",
   "execution_count": 32,
   "metadata": {},
   "outputs": [
    {
     "name": "stdout",
     "output_type": "stream",
     "text": [
      "ol e\n"
     ]
    }
   ],
   "source": [
    "string3 = \"ol eyyyyy\"\n",
    "\n",
    "print(string3.strip(\"y\")) #belirtilen karakteri başta ve sonda varsa siler"
   ]
  },
  {
   "cell_type": "markdown",
   "metadata": {},
   "source": [
    "Integer\n",
    "\n",
    "\n",
    "Literal integer values may not contain a decimal point.\n",
    "Integers may be arbitrarily large and are stored exactly.\n",
    "Integers have normal operations, with usual precedence (highest listed first):\n",
    "**: exponentiation (5**3 means 5*5*5)\n",
    "*, multiplication\n",
    "/, division with float result\n",
    "//, floor divisions result int, integer division (ignoring any remainder)\n",
    "%, modulus just the remainder from division\n",
    "+, -: addition, subtraction"
   ]
  },
  {
   "cell_type": "markdown",
   "metadata": {},
   "source": [
    "==\tEqual to\n",
    "!=\tNot equal to\n",
    "<\tLess than\n",
    ">\tGreater than\n",
    "<=\tLess than or equal to\n",
    ">=\tGreater than or equal to"
   ]
  },
  {
   "cell_type": "code",
   "execution_count": 36,
   "metadata": {},
   "outputs": [
    {
     "name": "stdout",
     "output_type": "stream",
     "text": [
      "x == y: False\n",
      "x != y: True\n",
      "x < y: True\n",
      "x > y: False\n",
      "x <= y: True\n",
      "x >= y: False\n"
     ]
    }
   ],
   "source": [
    "x = 5\n",
    "y = 8\n",
    "\n",
    "\n",
    "print(\"x == y:\", x == y)\n",
    "print(\"x != y:\", x != y)\n",
    "print(\"x < y:\", x < y)\n",
    "print(\"x > y:\", x > y)\n",
    "print(\"x <= y:\", x <= y)\n",
    "print(\"x >= y:\", x >= y)"
   ]
  },
  {
   "cell_type": "code",
   "execution_count": 37,
   "metadata": {},
   "outputs": [
    {
     "name": "stdout",
     "output_type": "stream",
     "text": [
      "True\n",
      "True\n",
      "True\n"
     ]
    }
   ],
   "source": [
    "print((9 > 7) and (2 < 4))  \n",
    "print((8 == 8) or (6 != 6)) \n",
    "print(not(3 <= 1))    "
   ]
  },
  {
   "cell_type": "markdown",
   "metadata": {},
   "source": [
    "Collection Data Types"
   ]
  },
  {
   "cell_type": "markdown",
   "metadata": {},
   "source": [
    "List\n",
    "Dictionary\n",
    "Tuple\n",
    "Set"
   ]
  }
 ],
 "metadata": {
  "interpreter": {
   "hash": "d9d8571b2b9c87efddb2dbc59192ba4a51821a03b900ec0a6d07b645da709eb8"
  },
  "kernelspec": {
   "display_name": "Python 3.10.1 32-bit",
   "language": "python",
   "name": "python3"
  },
  "language_info": {
   "codemirror_mode": {
    "name": "ipython",
    "version": 3
   },
   "file_extension": ".py",
   "mimetype": "text/x-python",
   "name": "python",
   "nbconvert_exporter": "python",
   "pygments_lexer": "ipython3",
   "version": "3.10.1"
  },
  "orig_nbformat": 4
 },
 "nbformat": 4,
 "nbformat_minor": 2
}
