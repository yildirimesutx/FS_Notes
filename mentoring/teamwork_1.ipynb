{
 "cells": [
  {
   "cell_type": "code",
   "execution_count": null,
   "metadata": {},
   "outputs": [],
   "source": [
    "# 1. Which of the following are valid ways to specify the string literal foo'bar in Python?\n",
    "# pythondaki geçerli yöntem hangisidir\n",
    "# A. \"\"\"foo'bar\"\"\"\n",
    "# B. 'foo\\'bar'\n",
    "# C. 'foo'bar'\n",
    "# D. 'foo''bar'\n",
    "# E. \"foo'bar\""
   ]
  },
  {
   "cell_type": "code",
   "execution_count": 3,
   "metadata": {},
   "outputs": [
    {
     "name": "stdout",
     "output_type": "stream",
     "text": [
      "foo\"bar\n"
     ]
    }
   ],
   "source": [
    "# print('foo\\'bar')\n",
    "# print(\"\"\"foo'bar\"\"\")\n",
    "# print('foo\\'bar')\n",
    "# print('foo'bar')\n",
    "print('foo\"bar')\n",
    "# print(\"foo'bar\")"
   ]
  },
  {
   "cell_type": "code",
   "execution_count": 5,
   "metadata": {},
   "outputs": [
    {
     "name": "stdout",
     "output_type": "stream",
     "text": [
      "1\n",
      "2\n",
      "3\n",
      "4\n"
     ]
    }
   ],
   "source": [
    "# What is the output of the following code snippet in Python?\n",
    "\n",
    "if 'bar' in {'foo': 1, 'bar': 2, 'baz': 3}:\n",
    "     print(1)\n",
    "     print(2)\n",
    "     if 'a' in 'quxa':\n",
    "        print(3)\n",
    "print(4)"
   ]
  },
  {
   "cell_type": "code",
   "execution_count": 49,
   "metadata": {},
   "outputs": [
    {
     "data": {
      "text/plain": [
       "False"
      ]
     },
     "execution_count": 49,
     "metadata": {},
     "output_type": "execute_result"
    }
   ],
   "source": [
    "# What is the expression involving x that accesses the value 30 in Python?\n",
    "#dict values keys ile ulaşabiliriz\n",
    "\n",
    "x = [\n",
    "     'a',\n",
    "     'b',\n",
    "     {\n",
    "       'foo': 1,\n",
    "       'bar':\n",
    "       {\n",
    "          'x' : 10,\n",
    "          'y' : 20,\n",
    "          'z' : 30\n",
    "       },\n",
    "        'baz': 3\n",
    "    },\n",
    "    'c',\n",
    "    'd'\n",
    "]\n",
    "\n",
    "'z' in x[2]\n",
    "# 'bar' in x[2]"
   ]
  },
  {
   "cell_type": "code",
   "execution_count": 29,
   "metadata": {},
   "outputs": [
    {
     "name": "stdout",
     "output_type": "stream",
     "text": [
      "30\n"
     ]
    }
   ],
   "source": [
    "print(x[2][\"bar\"][\"z\"])"
   ]
  },
  {
   "cell_type": "code",
   "execution_count": 44,
   "metadata": {},
   "outputs": [
    {
     "data": {
      "text/plain": [
       "False"
      ]
     },
     "execution_count": 44,
     "metadata": {},
     "output_type": "execute_result"
    }
   ],
   "source": [
    "'z' in x[2]"
   ]
  },
  {
   "cell_type": "code",
   "execution_count": 43,
   "metadata": {},
   "outputs": [
    {
     "name": "stdout",
     "output_type": "stream",
     "text": [
      "apple\n"
     ]
    }
   ],
   "source": [
    "# myobj = {\"apple\", \"banana\", \"cherry\"} # set\n",
    "\n",
    "# myobj = {first:\"apple\", second : \"banana\", thirdy:\"cherry\"} # dict\n",
    "\n",
    "# myobj = (\"apple\", \"banana\", \"cherry\") # tuple\n",
    "\n",
    "# myobj= [\"apple\", \"banana\", \"cherry\"]   # list\n",
    "\n",
    "\n",
    "\n",
    "# set ve dict unordered, list ve tuple ordered\n",
    "# not :dict keys ile ulaşılabilmektedir.\n",
    "\n",
    "\n",
    "\n",
    "print(myobj[1])"
   ]
  },
  {
   "cell_type": "code",
   "execution_count": null,
   "metadata": {},
   "outputs": [],
   "source": [
    "#  List\n",
    "\n",
    "- ordered\n",
    "- mutable\n",
    "\n",
    "# Tuple\n",
    "\n",
    "- ordered\n",
    "- immutable\n",
    "\n",
    "# Dict\n",
    "\n",
    "- unordered \n",
    "- mutable\n",
    "\n",
    "# set \n",
    "\n",
    "- mutable\n",
    "- unordered\n",
    "- unchanglebed"
   ]
  },
  {
   "cell_type": "code",
   "execution_count": 42,
   "metadata": {},
   "outputs": [
    {
     "name": "stdout",
     "output_type": "stream",
     "text": [
      "{'apple', 'orange', 'banana', 'cherry'}\n",
      "{'brand': 'Ford', 'model': 'Mustang', 'year': 1964, 'color': 'White'}\n",
      "['apple', 'banana', 'cherry', 'orange']\n"
     ]
    }
   ],
   "source": [
    "#set\n",
    "fruits = {\"apple\", \"banana\", \"cherry\"}\n",
    "fruits.add(\"orange\")\n",
    "print(fruits)\n",
    "\n",
    "#dict\n",
    "car = {\n",
    "  \"brand\": \"Ford\",\n",
    "  \"model\": \"Mustang\",\n",
    "  \"year\": 1964\n",
    "}\n",
    "car.update({\"color\": \"White\"})\n",
    "\n",
    "print(car)\n",
    "\n",
    "\n",
    "# list\n",
    "fruits = [\"apple\", \"banana\", \"cherry\"]\n",
    "\n",
    "fruits.append(\"orange\")\n",
    "\n",
    "print(fruits)\n",
    "\n",
    "\n",
    "# tuple\n",
    "\n",
    "# tuple is immutable, tuple has not add method\n",
    "\n",
    "\n",
    "\n"
   ]
  },
  {
   "cell_type": "code",
   "execution_count": 63,
   "metadata": {},
   "outputs": [
    {
     "name": "stdout",
     "output_type": "stream",
     "text": [
      "Tedx 3\n"
     ]
    }
   ],
   "source": [
    "#  What is the correct way to instantiate this Dog class in Python?\n",
    "\n",
    "class Dog:\n",
    "    def __init__(self, name, age):\n",
    "        self.name = name\n",
    "        self.age = age\n",
    "# Dog(\"Ted\", 3)\n",
    "\n",
    "    def __str__(self):   # görebilmek için str methodu kullanılması lazım\n",
    "        return f\"{self.name} {self.age}\"\n",
    "\n",
    "print(Dog(\"Tedx\", 3))"
   ]
  },
  {
   "cell_type": "code",
   "execution_count": null,
   "metadata": {},
   "outputs": [],
   "source": [
    "# 7. In Python, what is a function within a class definition?\n",
    "# A. Operation\n",
    "# B. Method\n",
    "# C. Callable\n",
    "# D. Class function\n",
    "\n",
    "answer :    B"
   ]
  },
  {
   "cell_type": "code",
   "execution_count": null,
   "metadata": {},
   "outputs": [],
   "source": [
    "# 9. Which SQL keyword is used to sort the result-set?\n",
    "# A. SORT\n",
    "# B. ORDER\n",
    "# C. SORT BY\n",
    "# D. ORDER BY\n",
    "\n",
    "SELECT column1, column2, ...\n",
    "FROM table_name\n",
    "ORDER BY column1, column2, ... ASC|DESC;\n",
    "\n",
    "# D. ORDER BY"
   ]
  },
  {
   "cell_type": "code",
   "execution_count": null,
   "metadata": {},
   "outputs": [],
   "source": [
    "# 10. With SQL, how do you select all the records from a table named \"Persons\" where the value of the\n",
    "# column \"FirstName\" is \"Peter\"?\n",
    "# A. SELECT * FROM Persons WHERE FirstName='Peter'\n",
    "# B. SELECT * FROM Persons WHERE FirstName<>'Peter'\n",
    "# C. SELECT [all] FROM Persons WHERE FirstName='Peter'\n",
    "# D. SELECT [all] FROM Persons WHERE FirstName LIKE 'Peter'\n",
    "\n",
    "\n",
    "A. SELECT * FROM Persons WHERE FirstName='Peter'"
   ]
  }
 ],
 "metadata": {
  "kernelspec": {
   "display_name": "Python 3.10.1 64-bit",
   "language": "python",
   "name": "python3"
  },
  "language_info": {
   "codemirror_mode": {
    "name": "ipython",
    "version": 3
   },
   "file_extension": ".py",
   "mimetype": "text/x-python",
   "name": "python",
   "nbconvert_exporter": "python",
   "pygments_lexer": "ipython3",
   "version": "3.10.1"
  },
  "orig_nbformat": 4,
  "vscode": {
   "interpreter": {
    "hash": "1d06fc9ed4b774328ae1669b976a7de461f6c6282277a8a3bb34b5a87421f7ca"
   }
  }
 },
 "nbformat": 4,
 "nbformat_minor": 2
}
