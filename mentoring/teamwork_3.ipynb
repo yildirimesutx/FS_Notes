{
 "cells": [
  {
   "cell_type": "markdown",
   "metadata": {},
   "source": []
  },
  {
   "cell_type": "markdown",
   "metadata": {},
   "source": [
    "\n",
    "```\n",
    "Which ORM query retrieves a single object from People table?\n",
    "A. People.objects.all()\n",
    "B. People.objects.filter(first_name=”Paul”)\n",
    "C. People.objects.get(id=3)\n",
    "D. People.objects.exclude(last_name=”Lonan”)\n",
    "\n",
    "Answer: C\n",
    "```\n"
   ]
  },
  {
   "cell_type": "markdown",
   "metadata": {},
   "source": [
    "- all() =>  ile modeldeki tüm tablonun sorgulanması yapılır\n",
    "- filter() => istenilen sorguyu içeren querysetleri döndürür \n",
    "filter(*args, **kwargs)¶\n",
    "Returns a new QuerySet containing objects that match the given lookup parameters\n",
    "- exclude() => istenilen sorgu haricindeki querysetleri döndürür.\n",
    "exclude(*args, **kwargs)¶\n",
    "Returns a new QuerySet containing objects that do not match the given lookup parameters.\n",
    "\n",
    "The lookup parameters (**kwargs) should be in the format described in Field lookups below. Multiple parameters are joined via AND in the underlying SQL statement, and the whole thing is enclosed in a NOT().\n",
    "\n",
    "- get() => istenilen sorguyu döndürür.\n",
    "\n",
    "- https://docs.djangoproject.com/en/4.0/ref/models/querysets\n",
    "\n",
    "- https://medium.com/@suayip/djangoda-orm-a-bir-bak%C4%B1%C5%9F-b01f3bf3840f\n"
   ]
  }
 ],
 "metadata": {
  "kernelspec": {
   "display_name": "Python 3.10.1 ('env': venv)",
   "language": "python",
   "name": "python3"
  },
  "language_info": {
   "name": "python",
   "version": "3.10.1"
  },
  "orig_nbformat": 4,
  "vscode": {
   "interpreter": {
    "hash": "a68cb1c3e69cd9dd55e9ac1fe4859818f9ce3b019aba760b20faad0fbea8bca0"
   }
  }
 },
 "nbformat": 4,
 "nbformat_minor": 2
}
