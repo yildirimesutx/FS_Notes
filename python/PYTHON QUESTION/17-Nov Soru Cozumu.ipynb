{
 "cells": [
  {
   "cell_type": "code",
   "execution_count": 18,
   "metadata": {},
   "outputs": [
    {
     "data": {
      "text/plain": [
       "['Odd number', 4, 'Odd number', 16, 'Odd number', 36, 144]"
      ]
     },
     "execution_count": 18,
     "metadata": {},
     "output_type": "execute_result"
    }
   ],
   "source": [
    "ornek = [1,2,3,4,5,6, 12]\n",
    "ornek2 = []\n",
    "for i in range(len(ornek)):\n",
    "    if ornek[i] % 2 == 0:\n",
    "        ornek2.append(ornek[i] ** 2)\n",
    "    else:\n",
    "        ornek2.append(\"Odd number\")\n",
    "    \n",
    "ornek2"
   ]
  },
  {
   "cell_type": "code",
   "execution_count": 3,
   "metadata": {},
   "outputs": [],
   "source": [
    "# [i for i in iterable(list, str, tuple) if condition]"
   ]
  },
  {
   "cell_type": "code",
   "execution_count": 4,
   "metadata": {},
   "outputs": [
    {
     "data": {
      "text/plain": [
       "[1, 4, 9, 16, 25]"
      ]
     },
     "execution_count": 4,
     "metadata": {},
     "output_type": "execute_result"
    }
   ],
   "source": [
    "ornek = [1,2,3,4,5]\n",
    "comprehension = [i**2 for i in ornek]\n",
    "comprehension"
   ]
  },
  {
   "cell_type": "code",
   "execution_count": 11,
   "metadata": {},
   "outputs": [
    {
     "data": {
      "text/plain": [
       "[4, 16, 36]"
      ]
     },
     "execution_count": 11,
     "metadata": {},
     "output_type": "execute_result"
    }
   ],
   "source": [
    "ornek = [1,2,3,4,5,6]\n",
    "comprehension = [i**2 for i in ornek if i%2 == 0]\n",
    "comprehension"
   ]
  },
  {
   "cell_type": "code",
   "execution_count": 17,
   "metadata": {},
   "outputs": [
    {
     "data": {
      "text/plain": [
       "[4, 9, 16, 36, 144]"
      ]
     },
     "execution_count": 17,
     "metadata": {},
     "output_type": "execute_result"
    }
   ],
   "source": [
    "ornek = [1,2,3,4,5,6,12]\n",
    "comprehension = [i**2 for i in ornek if i%2 == 0 or i%3 == 0]\n",
    "comprehension"
   ]
  },
  {
   "cell_type": "code",
   "execution_count": 20,
   "metadata": {},
   "outputs": [
    {
     "data": {
      "text/plain": [
       "['Odd number', 4, 'Odd number', 16, 'Odd number', 36, 144]"
      ]
     },
     "execution_count": 20,
     "metadata": {},
     "output_type": "execute_result"
    }
   ],
   "source": [
    "ornek = [1,2,3,4,5,6,12]\n",
    "comprehension = [i**2 if i%2 == 0 else \"Odd number\" for i in ornek]\n",
    "comprehension"
   ]
  },
  {
   "cell_type": "code",
   "execution_count": 21,
   "metadata": {},
   "outputs": [
    {
     "name": "stdout",
     "output_type": "stream",
     "text": [
      "['remo', 'penyez', 'azmah', 'temha']\n"
     ]
    }
   ],
   "source": [
    "strs = [\"omer\", \"zeynep\", \"hamza\", \"ahmet\"]\n",
    "print([string[::-1] for string in strs])"
   ]
  },
  {
   "cell_type": "code",
   "execution_count": 22,
   "metadata": {},
   "outputs": [
    {
     "data": {
      "text/plain": [
       "[64, 4096, 46656]"
      ]
     },
     "execution_count": 22,
     "metadata": {},
     "output_type": "execute_result"
    }
   ],
   "source": [
    "ornek = [1,2,3,4,5,6]\n",
    "comprehension = [j**3 for j in [i**2 for i in ornek if i%2 == 0]]\n",
    "comprehension"
   ]
  },
  {
   "cell_type": "code",
   "execution_count": 30,
   "metadata": {},
   "outputs": [
    {
     "name": "stdout",
     "output_type": "stream",
     "text": [
      "[2, 3, 1, 4, 5, 6]\n"
     ]
    }
   ],
   "source": [
    "# Python code to split list containing single integer\n",
    "  \n",
    "# List initialization\n",
    "test = [231]\n",
    "  \n",
    "# Using list comprehension\n",
    "output = [int(x) for z in test for x in str(z) if x.isdigit()]\n",
    "  \n",
    "# Printing output\n",
    "print(output)"
   ]
  },
  {
   "cell_type": "code",
   "execution_count": 48,
   "metadata": {},
   "outputs": [
    {
     "name": "stdout",
     "output_type": "stream",
     "text": [
      "None\n",
      "None\n",
      "None\n"
     ]
    }
   ],
   "source": [
    "# def func_name(param1,param2):\n",
    "#     func_body\n",
    "#     return value\n",
    "\n",
    "\n",
    "def addition(int1, int2):\n",
    "    toplam = int1+int2\n",
    "    return toplam\n",
    "    \n",
    "def addition2(int1, int2):\n",
    "    toplam = int1+int2\n",
    "\n",
    "print(addition(3,5))\n",
    "print(addition(2,1))\n",
    "print(addition2(6,5))"
   ]
  },
  {
   "cell_type": "code",
   "execution_count": 63,
   "metadata": {},
   "outputs": [
    {
     "name": "stdout",
     "output_type": "stream",
     "text": [
      "03/11/1999\n",
      "1999\n"
     ]
    }
   ],
   "source": [
    "liste = [\"11\", \"03\"]\n",
    "liste.append(\"1999\") # None\n",
    "liste.sort() # None\n",
    "joined_str = \"/\".join(liste) # '11/03/1999'\n",
    "popped_list = liste.pop()\n",
    "print(joined_str)\n",
    "print(popped_list)"
   ]
  },
  {
   "cell_type": "code",
   "execution_count": 54,
   "metadata": {},
   "outputs": [
    {
     "name": "stdout",
     "output_type": "stream",
     "text": [
      "75\n"
     ]
    }
   ],
   "source": [
    "liste = [1,5,6,3,4,75,5,9,8,6,15,62]\n",
    "max_item = max(liste)\n",
    "print(max_item)"
   ]
  },
  {
   "cell_type": "code",
   "execution_count": 61,
   "metadata": {},
   "outputs": [
    {
     "name": "stdout",
     "output_type": "stream",
     "text": [
      "75\n"
     ]
    }
   ],
   "source": [
    "def user_defined_max(iterable):\n",
    "    maximum = 0\n",
    "    for i in iterable:\n",
    "        if i > maximum:\n",
    "            maximum = i\n",
    "    return maximum\n",
    "\n",
    "liste = [1,5,6,3,4,75,5,9,8,6,15,62]\n",
    "max_item = user_defined_max(liste)\n",
    "print(max_item)"
   ]
  },
  {
   "cell_type": "code",
   "execution_count": 64,
   "metadata": {},
   "outputs": [],
   "source": [
    "# Find out if a given number is an \"Armstrong Number\".\n",
    "\n",
    "# An n-digit number that is the sum of the nth powers of its digits is called an n-Armstrong number. Examples :\n",
    "# 371 = 3^3 + 7^3 + 1^3;\n",
    "# 9474 = 9^4 + 4^4 + 7^4 + 4^4;\n",
    "# 93084 = 9^5 + 3^5 + 0^5 + 8^5 + 4^5.\n",
    "\n",
    "# Write a Python program that;\n",
    "# takes a positive integer number from the user,\n",
    "# checks the entered number if it is Armstrong,\n",
    "# consider the negative, float and any entries other than numeric values then display a warning message to the user."
   ]
  },
  {
   "cell_type": "code",
   "execution_count": 7,
   "metadata": {},
   "outputs": [
    {
     "name": "stdout",
     "output_type": "stream",
     "text": [
      "Bir sayi giriniz : 245.245\n",
      "Please enter a valid number.\n"
     ]
    }
   ],
   "source": [
    "given_number = input(\"Bir sayi giriniz : \")\n",
    "if given_number.isdigit() and int(given_number) > 0:\n",
    "    \n",
    "    number_length = len(given_number)\n",
    "    toplam = 0\n",
    "    for i in given_number:\n",
    "        toplam += int(i) ** number_length\n",
    "    \n",
    "    if toplam == int(given_number):\n",
    "        print(\"Armstrong Number\")\n",
    "    else:\n",
    "        print(\"Not an armstrong number\")\n",
    "\n",
    "else:\n",
    "    print(\"Please enter a valid number.\")\n"
   ]
  },
  {
   "cell_type": "code",
   "execution_count": 16,
   "metadata": {},
   "outputs": [
    {
     "name": "stdout",
     "output_type": "stream",
     "text": [
      "Armstrong Number\n"
     ]
    }
   ],
   "source": [
    "def armstrong(given_number):\n",
    "    if given_number.isdigit() and int(given_number) > 0:\n",
    "    \n",
    "        number_length = len(given_number)\n",
    "        toplam = 0\n",
    "        for i in given_number:\n",
    "            toplam += int(i) ** number_length\n",
    "\n",
    "        if toplam == int(given_number):\n",
    "            return \"Armstrong Number\"\n",
    "        else:\n",
    "            return \"Not an armstrong number\"\n",
    "    else:\n",
    "        return \"Please enter a valid number.\"\n",
    "\n",
    "print(armstrong(\"371\"))"
   ]
  },
  {
   "cell_type": "code",
   "execution_count": null,
   "metadata": {},
   "outputs": [],
   "source": []
  }
 ],
 "metadata": {
  "kernelspec": {
   "display_name": "Python 3",
   "language": "python",
   "name": "python3"
  },
  "language_info": {
   "codemirror_mode": {
    "name": "ipython",
    "version": 3
   },
   "file_extension": ".py",
   "mimetype": "text/x-python",
   "name": "python",
   "nbconvert_exporter": "python",
   "pygments_lexer": "ipython3",
   "version": "3.7.6"
  }
 },
 "nbformat": 4,
 "nbformat_minor": 4
}
