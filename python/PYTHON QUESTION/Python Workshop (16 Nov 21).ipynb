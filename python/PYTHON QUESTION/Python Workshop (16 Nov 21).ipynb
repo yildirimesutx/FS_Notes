{
 "cells": [
  {
   "cell_type": "markdown",
   "metadata": {},
   "source": [
    "SORU-1: Kullanıcının belirleyeceği \"n\" adet sayının tek tek girilmesini sağlayarak, bu sayıların toplamını bulan python kodunu yazınız.\n",
    "\n",
    "* For döngüsü kullanılmalıdır"
   ]
  },
  {
   "cell_type": "code",
   "execution_count": null,
   "metadata": {},
   "outputs": [],
   "source": [
    "n = int(input(\"Kaç adet sayı gireceğinizi belirtiniz: \"))\n",
    "listem = []\n",
    "\n",
    "for i in range(1,(n+1)):\n",
    "  sayı = int(input(f\"{i}. sayıyı giriniz: \"))\n",
    "  listem.append(sayı)\n",
    "\n",
    "x = sum(listem)\n",
    "print(\"Girmiş olduğunuz sayıların toplamı= {0}\".format(x))"
   ]
  },
  {
   "cell_type": "code",
   "execution_count": null,
   "metadata": {},
   "outputs": [],
   "source": [
    "n = int(input(\"Kaç adet sayı gireceğinizi belirtiniz: \"))\n",
    "toplam = 0\n",
    "\n",
    "for i in range(1,(n+1)):\n",
    "  sayı = int(input(f\"{i}. sayıyı giriniz: \"))\n",
    "  toplam += sayı\n",
    "\n",
    "print(\"Girmiş olduğunuz sayıların toplamı= {}\".format(toplam))"
   ]
  },
  {
   "cell_type": "code",
   "execution_count": null,
   "metadata": {},
   "outputs": [],
   "source": [
    "sayılar = map(int, input(\"Sayıları araya boşluk bırakara giriniz: \").split())\n",
    "\n",
    "toplam = sum(sayılar)\n",
    "\n",
    "print(\"Girmiş olduğunuz sayıların toplamı= {0}\".format(toplam)) # sum(toplam)'ı direkt print içine de yazabiliriz"
   ]
  },
  {
   "cell_type": "markdown",
   "metadata": {},
   "source": [
    "SORU-2: Kullanıcıdan alınan dört kenar uzunluğuna göre şeklin kare, dikdörtgen veya diğer dörtgenlerden biri olduğunu belirten python kodunu yazınız.\n",
    "\n",
    "* if-elif-else statement kullanılmalıdır"
   ]
  },
  {
   "cell_type": "code",
   "execution_count": null,
   "metadata": {},
   "outputs": [],
   "source": [
    "kenarlar = list(set(map(int, (input(\"Girmek istediğiniz 4 kenarı aralarına boşluk bırakarak yazınız: \").split()))))\n",
    "\n",
    "if len(kenarlar) == 1: \n",
    "    print(\"bu bir karedir\")\n",
    "elif len(kenarlar) == 2:\n",
    "    print(\"bu bir dikdörtgendir\")\n",
    "else:\n",
    "    print(\"bu farklı bir dörtgendir\")"
   ]
  },
  {
   "cell_type": "markdown",
   "metadata": {},
   "source": [
    "SORU-3: Kullanıcının belirleyeceği satır sayısı (n) kadar, \"*\" işaretiyle piramit oluşturan python kodunu yazınız.\n",
    "\n",
    "* For döngüsü kullanılmalıdır\n"
   ]
  },
  {
   "cell_type": "code",
   "execution_count": null,
   "metadata": {},
   "outputs": [],
   "source": [
    "n= int(input(\"Piramidin satır sayısını giriniz: \"))\n",
    "x = 2 * n - 1\n",
    "x\n",
    "\n",
    "for i in range(1, n+1):\n",
    "  print(' ' * (n-i) + '*' * (2*i-1))"
   ]
  },
  {
   "cell_type": "markdown",
   "metadata": {},
   "source": [
    "Fonksiyon nedir?\n",
    "\n",
    "Temel olarak fonksiyon, bizim belirttiğimiz işlemi istediğimiz argumanlar üzerinde yürüten bir kod bloğudur.\n",
    "Bazı fonksiyonlar metin yazdırır, bazı verileri siler veya bir sayının karesini alır.\n",
    "Fonksiyona, yalnızca çağrıldığında çalışan bir kod parçası da diyebiliriz.\n",
    "\n",
    "print(), int(), list(), input(), range()\n",
    "\n",
    "Bildiğimiz üzere build-in functionlar var. 69 tane.\n",
    "\n",
    "Bir de bunun yanında user-defined function yani kullanıcının kendi ihtiyacına göre tanımladığı fonk.lar var.\n",
    "\n",
    "Fonksiyon (her ikisi içinde) kullanmamızın bize sağladığı çok önemli 2 kolaylık var:\n",
    "\n",
    "1- Programımızı çok daha sade ve anlaşılır kılmamızı sağlıyor.\n",
    "2- Uzun bir programda aynı kod grubunu tekrar tekrar yazmamızı engelleyerek,\n",
    "zaman kaybını ve kodların arasında kaybolarak hata yapma ihtimalimizin artmasını engelliyor.\n",
    "\n",
    "def anahtar sözcüğü, fonksiyonun adını tanıtır. Bunu, fonksiyon adı ve parantez içindeki argümanlar izlemelidir.\n",
    "Fonksiyonun body yani gövdesini oluşturan ifadeler bir sonraki satırdan başlar ve 4 boşluk girintili olmalıdır."
   ]
  },
  {
   "cell_type": "markdown",
   "metadata": {},
   "source": [
    "SORU-4: Kullanıcının yarıçap değerini girdiği bir dairenin, alan ve çevresini hesaplayan python kodunu yazınız.\n",
    "\n",
    "* Fonksiyon tanımlanmalıdır"
   ]
  },
  {
   "cell_type": "code",
   "execution_count": null,
   "metadata": {},
   "outputs": [],
   "source": [
    "yarıçap = input(\"Yarıçap giriniz:\")\n",
    "\n",
    "alan = 3.14 * float(yarıçap) ** 2\n",
    "çevre = 2 * 3.14 * float(yarıçap)\n",
    "\n",
    "print(\"Dairenin alanı=\", round(alan, 2))\n",
    "print(\"Dairenin çevresi=\", round(çevre, 2))"
   ]
  },
  {
   "cell_type": "code",
   "execution_count": null,
   "metadata": {},
   "outputs": [],
   "source": [
    "def daire_alan(yarıçap):\n",
    "  alan = 3.14 * float(yarıçap) ** 2\n",
    "  return alan\n",
    "\n",
    "def daire_çevre(yarıçap):\n",
    "  çevre = 2 * 3.14 * float(yarıçap)\n",
    "  return çevre\n",
    "\n",
    "r = input(\"Yarıçap giriniz:\")\n",
    "\n",
    "print(\"Dairenin alanı=\", round(daire_alan(r), 2))\n",
    "print(\"Dairenin çevresi=\", round(daire_çevre(r), 2))"
   ]
  },
  {
   "cell_type": "markdown",
   "metadata": {},
   "source": [
    "SORU-5: Kullanıcının girdiği 2 sayı arasındaki çift sayıların ortalamasını bulan python kodunu yazınız.\n",
    "\n",
    "* map() fonksiyonu kullanılmalı ve\n",
    "* Fonksiyon tanımlanmalıdır"
   ]
  },
  {
   "cell_type": "code",
   "execution_count": null,
   "metadata": {},
   "outputs": [],
   "source": [
    "başlangıç, bitiş = map(int, input(\"2 sayı giriniz: \").split())\n",
    "toplam = 0\n",
    "sayaç = 0\n",
    "\n",
    "for i in range(başlangıç, bitiş+1):\n",
    "  if i % 2 == 0:\n",
    "    toplam += i\n",
    "    sayaç += 1\n",
    "\n",
    "ortalama = toplam / sayaç\n",
    "\n",
    "print(f\"Sayıların ortalaması= {ortalama}\")\n"
   ]
  },
  {
   "cell_type": "code",
   "execution_count": null,
   "metadata": {},
   "outputs": [],
   "source": [
    "başlangıç, bitiş = map(int, input(\"2 sayı giriniz: \").split())\n",
    "listem = []\n",
    "sayaç = başlangıç\n",
    "\n",
    "while başlangıç <= sayaç <= bitiş:\n",
    "  if sayaç % 2 == 0:\n",
    "    listem.append(sayaç)\n",
    "    sayaç += 1\n",
    "  else:\n",
    "    sayaç += 1\n",
    "    continue\n",
    "\n",
    "print(listem)\n",
    "\n",
    "ortalama = sum(listem) / len(listem)\n",
    "\n",
    "print(f\"Sayıların ortalaması= {ortalama}\")\n"
   ]
  },
  {
   "cell_type": "code",
   "execution_count": null,
   "metadata": {},
   "outputs": [],
   "source": [
    "def çift(başlangıç, bitiş):\n",
    "  lst = []\n",
    "  for i in range(başlangıç, bitiş+1):\n",
    "    if i % 2 == 0:\n",
    "      lst.append(i)\n",
    "  return lst\n",
    "\n",
    "a, b = list(map(int, input(\"2 sayı giriniz: \").split()))\n",
    "\n",
    "ortalama = sum(çift(a, b)) / len(çift(a, b))\n",
    "\n",
    "print(f\"Sayıların ortalaması= {ortalama}\")"
   ]
  },
  {
   "cell_type": "markdown",
   "metadata": {},
   "source": [
    "**SORU-6:** x listesi içinde verilen sayıları birbiriyle çarpan python kodunu yazınız.\n",
    "\n",
    "x = [1, 2, 3, 4, 5]\n",
    "\n",
    "* Fonksiyon tanımlanmalıdır"
   ]
  },
  {
   "cell_type": "code",
   "execution_count": null,
   "metadata": {},
   "outputs": [],
   "source": [
    "x = [1, 2, 3, 4, 5]\n",
    "sonuç = 1\n",
    "\n",
    "for i in x:\n",
    "  sonuç *= i\n",
    "\n",
    "print(f\"Listedeki sayıların çarpımı= {sonuç}\")"
   ]
  },
  {
   "cell_type": "code",
   "execution_count": null,
   "metadata": {},
   "outputs": [],
   "source": [
    "def çarpma(listem) : \n",
    "    sonuç = 1\n",
    "    for i in listem: \n",
    "        sonuç *= i  \n",
    "    return sonuç\n",
    "      \n",
    " \n",
    "x = [1, 2, 3, 4, 5]  # fonksiyonların içerisine collection type'ları da argument olarak sunabiliyoruz \n",
    "\n",
    "print(çarpma(x))"
   ]
  },
  {
   "cell_type": "markdown",
   "metadata": {},
   "source": [
    "**SORU-7:** Tanımlanan bir liste içinde aranan değerin kaç tane olduğunu bulan Python kodunu yazınız.\n",
    "\n",
    "x = [1, 3, 8, 6, 8, 10, 20, 6, 22, 14, 10, 8, 13, 7, 8] \n",
    "\n",
    "Output = 8 elemanı dizi içinde 4 adet bulunmaktadır\n",
    "\n",
    "* Fonksiyon tanımlanmalıdır"
   ]
  },
  {
   "cell_type": "code",
   "execution_count": null,
   "metadata": {},
   "outputs": [],
   "source": [
    "def sayımX(listem, x):\n",
    "  sayaç = 0\n",
    "  for i in listem:\n",
    "    if i == x:\n",
    "      sayaç += 1\n",
    "  return sayaç\n",
    "\n",
    "listem = [1, 3, 8, 6, 8, 3, 10, 20, 6, 22, 14, 6, 10, 8, 13, 7, 8]\n",
    "x = 3\n",
    "\n",
    "print(f'{x} elemanı liste içinde {sayımX(listem, x)} adet bulunmaktadır')"
   ]
  },
  {
   "cell_type": "code",
   "execution_count": null,
   "metadata": {},
   "outputs": [],
   "source": [
    "def sayımX(listem, x):\n",
    "  return listem.count(x)\n",
    "\n",
    "listem = [1, 3, 8, 6, 8, 3, 10, 20, 6, 22, 14, 6, 10, 8, 13, 7, 8]\n",
    "x = 3  ## Bu değerleri print içine yazarak ta aynı sonucu alabilir miyiz?\n",
    "\n",
    "print(f'{x} elemanı liste içinde {sayımX(listem, x)} adet bulunmaktadır')"
   ]
  },
  {
   "cell_type": "markdown",
   "metadata": {},
   "source": [
    "**SORU-8:** Kullanıcıdan oluşturduğu listedeki herhangi iki elamanın yerini değiştiren python kodunu yazınız.\n",
    "\n",
    "* map() fonksiyonu kullanılmalı ve\n",
    "* Fonksiyon tanımlanmalıdır"
   ]
  },
  {
   "cell_type": "code",
   "execution_count": null,
   "metadata": {},
   "outputs": [],
   "source": [
    "def yer_değiştirme(listem, pos1, pos2):\n",
    "  listem[pos1], listem[pos2] = listem[pos2], listem[pos1]\n",
    "  return listem\n",
    "\n",
    "listem = list(map(int, input(\"Listenin sayılarını giriniz: \").split()))\n",
    "pos1, pos2 = 1, 3\n",
    "\n",
    "print(yer_değiştirme(listem, pos1, pos2))"
   ]
  }
 ],
 "metadata": {
  "language_info": {
   "name": "plaintext"
  },
  "orig_nbformat": 4
 },
 "nbformat": 4,
 "nbformat_minor": 2
}
