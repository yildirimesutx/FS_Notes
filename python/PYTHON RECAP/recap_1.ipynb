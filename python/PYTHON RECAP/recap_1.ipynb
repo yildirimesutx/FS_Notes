{
 "cells": [
  {
   "cell_type": "code",
   "execution_count": 51,
   "metadata": {},
   "outputs": [
    {
     "name": "stdout",
     "output_type": "stream",
     "text": [
      "Hello \n"
     ]
    }
   ],
   "source": [
    "user = input(\"Enter a username\")\n",
    "print(\"Hello \" + user)"
   ]
  },
  {
   "cell_type": "code",
   "execution_count": 52,
   "metadata": {},
   "outputs": [
    {
     "data": {
      "text/plain": [
       "'belivme'"
      ]
     },
     "execution_count": 52,
     "metadata": {},
     "output_type": "execute_result"
    }
   ],
   "source": [
    "\"bel\"+\"ivme\""
   ]
  },
  {
   "cell_type": "markdown",
   "metadata": {},
   "source": [
    "# Introduction to Data Types\n",
    "```\n",
    "String, # \"tırnak içine koyduğumuz her şey stringdir\"\n",
    "Integer, # Tam sayılar, pozitif, negatif dahil\n",
    "Float,  # ondalık sayılar\n",
    "Boolean # sorulan sorulara True ve False şeklinde cevap verir, iki değişkeni vardır.\n",
    "```"
   ]
  },
  {
   "cell_type": "code",
   "execution_count": 53,
   "metadata": {},
   "outputs": [
    {
     "name": "stdout",
     "output_type": "stream",
     "text": [
      "a is  <class 'float'>\n",
      "b is  <class 'float'>\n",
      "c is  <class 'str'>\n",
      "a : 4.59\n",
      "b : 5.8\n"
     ]
    }
   ],
   "source": [
    "a = 4.59\n",
    "b =5.8\n",
    "c = \"3.85\"\n",
    "\n",
    "print(\"a is \", type(a))\n",
    "print(\"b is \", type(b))\n",
    "print(\"c is \", type(c))\n",
    "print(\"a :\", a)\n",
    "print( \"b :\", b)"
   ]
  },
  {
   "cell_type": "code",
   "execution_count": 54,
   "metadata": {},
   "outputs": [
    {
     "data": {
      "text/plain": [
       "4"
      ]
     },
     "execution_count": 54,
     "metadata": {},
     "output_type": "execute_result"
    }
   ],
   "source": [
    "int(a)"
   ]
  },
  {
   "cell_type": "code",
   "execution_count": 55,
   "metadata": {},
   "outputs": [
    {
     "data": {
      "text/plain": [
       "'4.595.8'"
      ]
     },
     "execution_count": 55,
     "metadata": {},
     "output_type": "execute_result"
    }
   ],
   "source": [
    "str(a)\n",
    "str(a)+str(b)\n"
   ]
  },
  {
   "cell_type": "code",
   "execution_count": 56,
   "metadata": {},
   "outputs": [
    {
     "name": "stdout",
     "output_type": "stream",
     "text": [
      "23\n",
      "31.5\n",
      "I am at_34\n"
     ]
    }
   ],
   "source": [
    "x = 34\n",
    "v = \"11\"\n",
    "y = \"2.5\"\n",
    "z= \"I am at_\"\n",
    "\n",
    "\n",
    "print(x-int(v))\n",
    "print(x-float(y))\n",
    "print(z+str(x))"
   ]
  },
  {
   "cell_type": "code",
   "execution_count": 57,
   "metadata": {},
   "outputs": [
    {
     "data": {
      "text/plain": [
       "3"
      ]
     },
     "execution_count": 57,
     "metadata": {},
     "output_type": "execute_result"
    }
   ],
   "source": [
    "int(3.14)"
   ]
  },
  {
   "cell_type": "code",
   "execution_count": 58,
   "metadata": {},
   "outputs": [
    {
     "name": "stdout",
     "output_type": "stream",
     "text": [
      "70.0 F is enough for room temprature.\n"
     ]
    }
   ],
   "source": [
    "a = 36.5\n",
    "b = \"30\"\n",
    "c = \"3.5\"\n",
    "d = \" F is enough for room temprature.\"\n",
    "\n",
    "print(str(a+ int(b)+ float(c))+ d)"
   ]
  },
  {
   "cell_type": "code",
   "execution_count": 59,
   "metadata": {},
   "outputs": [
    {
     "name": "stdout",
     "output_type": "stream",
     "text": [
      "10\n",
      "300\n",
      "10\n"
     ]
    }
   ],
   "source": [
    "x = 60\n",
    "y = 10\n",
    "z = 30\n",
    "\n",
    "x = y\n",
    "y = z*x\n",
    "z = x\n",
    "\n",
    "print(x)\n",
    "print(y)\n",
    "print(z)"
   ]
  },
  {
   "cell_type": "code",
   "execution_count": 60,
   "metadata": {},
   "outputs": [
    {
     "name": "stdout",
     "output_type": "stream",
     "text": [
      "56\n"
     ]
    }
   ],
   "source": [
    "first_num = \"5\"\n",
    "sec_num = \"6\"\n",
    "\n",
    "print(first_num + sec_num)"
   ]
  },
  {
   "cell_type": "code",
   "execution_count": 61,
   "metadata": {},
   "outputs": [
    {
     "name": "stdout",
     "output_type": "stream",
     "text": [
      "11\n"
     ]
    }
   ],
   "source": [
    "first_num = \"5\"\n",
    "sec_num = \"6\"\n",
    "\n",
    "print(int(first_num)+ int(sec_num))"
   ]
  },
  {
   "cell_type": "code",
   "execution_count": 62,
   "metadata": {},
   "outputs": [
    {
     "name": "stdout",
     "output_type": "stream",
     "text": [
      "2\n"
     ]
    }
   ],
   "source": [
    "print(7//3) # bölme işleminde bölüm değerini vermektedir. floor division"
   ]
  },
  {
   "cell_type": "code",
   "execution_count": 63,
   "metadata": {},
   "outputs": [
    {
     "name": "stdout",
     "output_type": "stream",
     "text": [
      "1\n"
     ]
    }
   ],
   "source": [
    "print(7%3) # bölme işleminde kalan değeri vermektedir. modulus"
   ]
  },
  {
   "cell_type": "code",
   "execution_count": 64,
   "metadata": {},
   "outputs": [
    {
     "name": "stdout",
     "output_type": "stream",
     "text": [
      "8\n"
     ]
    }
   ],
   "source": [
    "print(2**3)"
   ]
  },
  {
   "cell_type": "code",
   "execution_count": 65,
   "metadata": {},
   "outputs": [
    {
     "data": {
      "text/plain": [
       "10"
      ]
     },
     "execution_count": 65,
     "metadata": {},
     "output_type": "execute_result"
    }
   ],
   "source": [
    "a = 10\n",
    "a"
   ]
  },
  {
   "cell_type": "code",
   "execution_count": 66,
   "metadata": {},
   "outputs": [
    {
     "data": {
      "text/plain": [
       "11"
      ]
     },
     "execution_count": 66,
     "metadata": {},
     "output_type": "execute_result"
    }
   ],
   "source": [
    "a +=1\n",
    "a"
   ]
  },
  {
   "cell_type": "code",
   "execution_count": 67,
   "metadata": {},
   "outputs": [
    {
     "data": {
      "text/plain": [
       "11"
      ]
     },
     "execution_count": 67,
     "metadata": {},
     "output_type": "execute_result"
    }
   ],
   "source": [
    "a = 8\n",
    "b = 3\n",
    "\n",
    "a +=b\n",
    "\n",
    "a"
   ]
  },
  {
   "cell_type": "code",
   "execution_count": 68,
   "metadata": {},
   "outputs": [
    {
     "data": {
      "text/plain": [
       "33"
      ]
     },
     "execution_count": 68,
     "metadata": {},
     "output_type": "execute_result"
    }
   ],
   "source": [
    "a *=b\n",
    "a"
   ]
  },
  {
   "cell_type": "code",
   "execution_count": 69,
   "metadata": {},
   "outputs": [
    {
     "name": "stdout",
     "output_type": "stream",
     "text": [
      "5.0\n"
     ]
    }
   ],
   "source": [
    "x = 3\n",
    "y = 4\n",
    "z = (x**2 + y**2)**0.5\n",
    "\n",
    "print(z)"
   ]
  },
  {
   "cell_type": "code",
   "execution_count": 70,
   "metadata": {},
   "outputs": [
    {
     "name": "stdout",
     "output_type": "stream",
     "text": [
      "i\n",
      "will say\n",
      "'i missed you'\n",
      "to my mother\n"
     ]
    }
   ],
   "source": [
    "print(\"i\", sep=\"\\b\")\n",
    "print(\"will say\", end=\"\\n\")\n",
    "print(\"'i missed you'\", end=\"\\n\")\n",
    "print(\"to my mother\")"
   ]
  },
  {
   "cell_type": "code",
   "execution_count": 74,
   "metadata": {},
   "outputs": [
    {
     "name": "stdout",
     "output_type": "stream",
     "text": [
      "i\twill say\tto my mother\n",
      "i will say to my mother\t'i missed you'\tto my mother\n"
     ]
    }
   ],
   "source": []
  },
  {
   "cell_type": "markdown",
   "metadata": {},
   "source": [
    "# Escape Sequences\n",
    "\n",
    "'\\n: means new line, yeni satır anlamına gelir\n",
    "'\\t: means new tab mark, tab işareti anlamına gelir\n",
    "'\\b: imleci bir karakter sola alır\n",
    "\n",
    "\n",
    "sep ='\\n', sep ='\\t',  sep ='\\b' sep içinde kullanılırsa print içindeki value lara etki eder\n",
    "\n",
    "end ='\\n' end ile kullanımlarında printin sonun uygular, bir sonraki printi de etkileyerek işleme alır\n",
    "\n",
    "end = '\\n'  : çıktıları alt alta sıralar\n",
    "end = '\\t'  : çıktılşarı yan yana sıralar\n",
    "end = '\\b'  : çıktıları yan yana sıralar fakat çıktının en sağındaki karakteri siler diğer çıktıyı birbirine yapıştırır.\n",
    "end = ' '    çıktıyı yan yana sıralar"
   ]
  },
  {
   "cell_type": "code",
   "execution_count": 75,
   "metadata": {},
   "outputs": [
    {
     "name": "stdout",
     "output_type": "stream",
     "text": [
      "i\twill say\tto my mother\n",
      "i will say to my mother\t'i missed you'\tto my mother\n"
     ]
    }
   ],
   "source": [
    "print(\"i\", \"will say\", \"to my mother\",sep=\"\\t\")\n",
    "print(\"i\", \"will say\", \"to my mother\",end=\"\\t\")\n",
    "# print(\"will say\", end=\"\\n\")\n",
    "print(\"'i missed you'\", end=\"\\t\")\n",
    "print(\"to my mother\")"
   ]
  },
  {
   "cell_type": "markdown",
   "metadata": {},
   "source": []
  },
  {
   "cell_type": "markdown",
   "metadata": {},
   "source": [
    "# Boolean Operations\n",
    "```\n",
    "or : veya, True yakalar, ilk True yakalar, Hepsi False ise sondaki False alır\n",
    "and : ve, False yakalr, İlk False yakalar, Hepsi True ise sondaki True alır\n",
    "not :False True, True False çevirir\n",
    "\n",
    "satır içinde 3 ü de varsa aşağıdaki sıraya göre çözülür\n",
    "not\n",
    "and\n",
    "or\n",
    "```"
   ]
  },
  {
   "cell_type": "code",
   "execution_count": 77,
   "metadata": {},
   "outputs": [
    {
     "name": "stdout",
     "output_type": "stream",
     "text": [
      "True\n"
     ]
    }
   ],
   "source": [
    "logic = True and False or not False or False\n",
    "\n",
    "print(logic)"
   ]
  },
  {
   "cell_type": "markdown",
   "metadata": {},
   "source": []
  },
  {
   "cell_type": "markdown",
   "metadata": {},
   "source": [
    "# Truth Values of Logic Statements\n",
    "\n",
    "False olarak kabul edilir;\n",
    "\n",
    " - None\n",
    " - 0, 0.0, 0j\n",
    " - '', [], {}.  bunlar False olarak kabul edilir,\n",
    " \n",
    " Geri kalan değerler True olarak kabul edilir."
   ]
  },
  {
   "cell_type": "code",
   "execution_count": 83,
   "metadata": {},
   "outputs": [
    {
     "data": {
      "text/plain": [
       "False"
      ]
     },
     "execution_count": 83,
     "metadata": {},
     "output_type": "execute_result"
    }
   ],
   "source": [
    "bool(\"\")\n",
    "bool({})\n",
    "bool(0)"
   ]
  },
  {
   "cell_type": "code",
   "execution_count": 84,
   "metadata": {},
   "outputs": [
    {
     "name": "stdout",
     "output_type": "stream",
     "text": [
      "2\n",
      "be happy!\n",
      "()\n",
      "0\n",
      "{0}\n"
     ]
    }
   ],
   "source": [
    "print(2 or \"hello world\")\n",
    "print([] or \"be happy!\")\n",
    "print(None or ())\n",
    "print({} or 0)\n",
    "print({0} or False)"
   ]
  },
  {
   "cell_type": "markdown",
   "metadata": {},
   "source": [
    "- Kadayıf\n",
    "- İç\n",
    "  - Ceviz\n",
    "  - Fındık\n",
    "  - Fıstık\n",
    "- Şerbet\n",
    "  - su\n",
    "  - Şeker\n",
    "- Yumurta  \n"
   ]
  },
  {
   "cell_type": "code",
   "execution_count": 86,
   "metadata": {},
   "outputs": [
    {
     "data": {
      "text/plain": [
       "True"
      ]
     },
     "execution_count": 86,
     "metadata": {},
     "output_type": "execute_result"
    }
   ],
   "source": [
    "kadayıf = True\n",
    "\n",
    "# iç\n",
    "ceviz = True\n",
    "fındık = False\n",
    "fıstık = False\n",
    "\n",
    "# şerbet\n",
    "su = True\n",
    "seker = True\n",
    "\n",
    "yumurta = True\n",
    "\n",
    "yedim = kadayıf and (ceviz or fındık or fıstık) and (su and seker) and yumurta\n",
    "\n",
    "yedim"
   ]
  },
  {
   "cell_type": "markdown",
   "metadata": {},
   "source": [
    "# The Strength of Strings in Python\n",
    "\n",
    "✔Indexing&Slicing Strings\n",
    "\n",
    "✔String Formatting with Arithmetic Syntax\n",
    "\n",
    "✔String Formatting with '%' Operator\n",
    "\n",
    "✔String Formatting with 'string.format()' Method\n",
    "\n",
    "✔String Formatting with 'f-string'"
   ]
  },
  {
   "cell_type": "code",
   "execution_count": null,
   "metadata": {},
   "outputs": [],
   "source": [
    "#  The formula syntax of string indexing is : string[start:stop:step]"
   ]
  },
  {
   "cell_type": "markdown",
   "metadata": {},
   "source": []
  },
  {
   "cell_type": "code",
   "execution_count": 87,
   "metadata": {},
   "outputs": [
    {
     "name": "stdout",
     "output_type": "stream",
     "text": [
      "hoenix\n",
      "Phoeni\n",
      "Ponx\n",
      "hei\n",
      "nix\n",
      "xineohP\n"
     ]
    }
   ],
   "source": [
    "city = \"Phoenix\"\n",
    "\n",
    "print(city[1:])\n",
    "print(city[:6])\n",
    "print(city[::2])\n",
    "print(city[1::2])\n",
    "print(city[-3:])\n",
    "print(city[::-1])"
   ]
  },
  {
   "cell_type": "code",
   "execution_count": 88,
   "metadata": {},
   "outputs": [
    {
     "name": "stdout",
     "output_type": "stream",
     "text": [
      "\n",
      "Phoe\n"
     ]
    }
   ],
   "source": [
    "city = 'Phoenix'\n",
    "print(city[-3:-7])\n",
    "print(city[-7:-3]) "
   ]
  },
  {
   "cell_type": "code",
   "execution_count": 89,
   "metadata": {},
   "outputs": [
    {
     "name": "stdout",
     "output_type": "stream",
     "text": [
      "xineohP\n"
     ]
    }
   ],
   "source": [
    "city = 'Phoenix'\n",
    "\n",
    "print(city[::-1])"
   ]
  },
  {
   "cell_type": "code",
   "execution_count": 90,
   "metadata": {},
   "outputs": [
    {
     "name": "stdout",
     "output_type": "stream",
     "text": [
      "\n"
     ]
    }
   ],
   "source": [
    "print(city[-3:-7]) # start stop giderken soldan sağa akar, step pozitif olduğu için değişem yok, fakat işlem sğadan sola gitmek istediği için sonuç vermez"
   ]
  },
  {
   "cell_type": "code",
   "execution_count": null,
   "metadata": {},
   "outputs": [],
   "source": [
    "print(city[-3:-7:-1]) # bu kod çalışır çünkü, -1 step soldan sağa gidişi sağdan sol olarak değiştirdi"
   ]
  },
  {
   "cell_type": "code",
   "execution_count": 91,
   "metadata": {},
   "outputs": [
    {
     "data": {
      "text/plain": [
       "7"
      ]
     },
     "execution_count": 91,
     "metadata": {},
     "output_type": "execute_result"
    }
   ],
   "source": [
    "len(city)"
   ]
  },
  {
   "cell_type": "code",
   "execution_count": 95,
   "metadata": {},
   "outputs": [
    {
     "data": {
      "text/plain": [
       "'121125'"
      ]
     },
     "execution_count": 95,
     "metadata": {},
     "output_type": "execute_result"
    }
   ],
   "source": [
    "sonuc = str((5+6)**2) + \"125\"\n",
    "sonuc"
   ]
  },
  {
   "cell_type": "code",
   "execution_count": 96,
   "metadata": {},
   "outputs": [
    {
     "data": {
      "text/plain": [
       "'121125121125'"
      ]
     },
     "execution_count": 96,
     "metadata": {},
     "output_type": "execute_result"
    }
   ],
   "source": [
    "sonuc = ( sonuc + sonuc )\n",
    "sonuc\n"
   ]
  },
  {
   "cell_type": "code",
   "execution_count": 97,
   "metadata": {},
   "outputs": [
    {
     "name": "stdout",
     "output_type": "stream",
     "text": [
      "no way!no way!no way!\n"
     ]
    }
   ],
   "source": [
    "print(3*\"no way!\")"
   ]
  },
  {
   "cell_type": "code",
   "execution_count": 98,
   "metadata": {},
   "outputs": [
    {
     "name": "stdout",
     "output_type": "stream",
     "text": [
      "n o   w a y\n"
     ]
    }
   ],
   "source": [
    "print(*\"no way\")"
   ]
  },
  {
   "cell_type": "code",
   "execution_count": 99,
   "metadata": {},
   "outputs": [
    {
     "name": "stdout",
     "output_type": "stream",
     "text": [
      "123\n"
     ]
    }
   ],
   "source": [
    "x = \"123456789\"\n",
    "\n",
    "print(\"%.3s\" % x)"
   ]
  },
  {
   "cell_type": "code",
   "execution_count": 104,
   "metadata": {},
   "outputs": [
    {
     "name": "stdout",
     "output_type": "stream",
     "text": [
      "33 pounds of bananas left\n"
     ]
    }
   ],
   "source": [
    "print(\"%(amount)d pounds of %(fruit)s left\" % {\"amount\":33, \"fruit\":\"bananas\"})"
   ]
  },
  {
   "cell_type": "code",
   "execution_count": 109,
   "metadata": {},
   "outputs": [
    {
     "name": "stdout",
     "output_type": "stream",
     "text": [
      "<class 'str'>\n"
     ]
    }
   ],
   "source": [
    "sentence = 12345678910111213\n",
    "\n",
    "print(type(\"%.2d\" % sentence))"
   ]
  },
  {
   "cell_type": "code",
   "execution_count": null,
   "metadata": {},
   "outputs": [],
   "source": []
  }
 ],
 "metadata": {
  "kernelspec": {
   "display_name": "Python 3.10.1 64-bit",
   "language": "python",
   "name": "python3"
  },
  "language_info": {
   "codemirror_mode": {
    "name": "ipython",
    "version": 3
   },
   "file_extension": ".py",
   "mimetype": "text/x-python",
   "name": "python",
   "nbconvert_exporter": "python",
   "pygments_lexer": "ipython3",
   "version": "3.10.1"
  },
  "orig_nbformat": 4,
  "vscode": {
   "interpreter": {
    "hash": "1d06fc9ed4b774328ae1669b976a7de461f6c6282277a8a3bb34b5a87421f7ca"
   }
  }
 },
 "nbformat": 4,
 "nbformat_minor": 2
}
