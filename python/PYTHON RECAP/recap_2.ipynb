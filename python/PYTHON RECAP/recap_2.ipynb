{
 "cells": [
  {
   "cell_type": "markdown",
   "metadata": {},
   "source": [
    " # Conditional Statements\n",
    " \n",
    " -Python If ... Else"
   ]
  },
  {
   "cell_type": "markdown",
   "metadata": {},
   "source": [
    "Python supports the usual logical conditions from mathematics:\n",
    "\n",
    "- Equals: a == b\n",
    "- Not Equals: a != b\n",
    "- Less than: a < b\n",
    "- Less than or equal to: a <= b\n",
    "- Greater than: a > b\n",
    "- Greater than or equal to: a >= b"
   ]
  },
  {
   "cell_type": "code",
   "execution_count": 17,
   "metadata": {},
   "outputs": [
    {
     "name": "stdout",
     "output_type": "stream",
     "text": [
      "is x equel to y?:  False\n"
     ]
    }
   ],
   "source": [
    "x = 9\n",
    "y = 3\n",
    "\n",
    "print(\"is x equel to y?: \", x == y)"
   ]
  },
  {
   "cell_type": "code",
   "execution_count": 18,
   "metadata": {},
   "outputs": [
    {
     "name": "stdout",
     "output_type": "stream",
     "text": [
      "is x not equel to y? : True\n"
     ]
    }
   ],
   "source": [
    "print (\"is x not equel to y? :\" , x != y) # x y ye eşit değil mi? hayır ,x y ye eşit değil mi? evet eşit "
   ]
  },
  {
   "cell_type": "code",
   "execution_count": 19,
   "metadata": {},
   "outputs": [
    {
     "name": "stdout",
     "output_type": "stream",
     "text": [
      "is x greater than y?: True\n"
     ]
    }
   ],
   "source": [
    "print(\"is x greater than y?:\", x>y)"
   ]
  },
  {
   "cell_type": "code",
   "execution_count": 20,
   "metadata": {},
   "outputs": [
    {
     "name": "stdout",
     "output_type": "stream",
     "text": [
      "is x less than to y : False\n"
     ]
    }
   ],
   "source": [
    "print(\"is x less than to y :\", x <= y)"
   ]
  },
  {
   "cell_type": "code",
   "execution_count": 21,
   "metadata": {},
   "outputs": [
    {
     "name": "stdout",
     "output_type": "stream",
     "text": [
      "is x greather than to y : True\n"
     ]
    }
   ],
   "source": [
    "print(\"is x greather than to y :\", x >= y )"
   ]
  },
  {
   "cell_type": "code",
   "execution_count": 2,
   "metadata": {},
   "outputs": [
    {
     "name": "stdout",
     "output_type": "stream",
     "text": [
      "a is greather than b\n"
     ]
    }
   ],
   "source": [
    "a = 200\n",
    "b = 201\n",
    "\n",
    "if a > b :\n",
    "    print(\"b is greather than a\")\n",
    "\n",
    "else :\n",
    "    print(\"a is greather than b\")"
   ]
  },
  {
   "cell_type": "code",
   "execution_count": null,
   "metadata": {},
   "outputs": [],
   "source": []
  },
  {
   "cell_type": "code",
   "execution_count": 4,
   "metadata": {},
   "outputs": [
    {
     "name": "stdout",
     "output_type": "stream",
     "text": [
      "a and b are equal\n"
     ]
    }
   ],
   "source": [
    "a = 33\n",
    "b = 33\n",
    "\n",
    "if a>b :\n",
    "    print(\"a is greather than b\")\n",
    "elif b>a:\n",
    "    print(\"b is greather than a\")\n",
    "else:\n",
    "    print(\"a and b are equal\")    \n"
   ]
  },
  {
   "cell_type": "markdown",
   "metadata": {},
   "source": [
    "- Short Hand If"
   ]
  },
  {
   "cell_type": "code",
   "execution_count": 5,
   "metadata": {},
   "outputs": [
    {
     "name": "stdout",
     "output_type": "stream",
     "text": [
      "a is greather b\n"
     ]
    }
   ],
   "source": [
    "a = 14\n",
    "b = 13\n",
    "\n",
    "if a>b: print(\"a is greather b\")"
   ]
  },
  {
   "cell_type": "code",
   "execution_count": 6,
   "metadata": {},
   "outputs": [
    {
     "name": "stdout",
     "output_type": "stream",
     "text": [
      "b\n"
     ]
    }
   ],
   "source": [
    "a = 5\n",
    "b = 330\n",
    "\n",
    "print(\"A\") if a>b else print(\"b\")"
   ]
  },
  {
   "cell_type": "code",
   "execution_count": 9,
   "metadata": {},
   "outputs": [
    {
     "name": "stdout",
     "output_type": "stream",
     "text": [
      "b\n"
     ]
    }
   ],
   "source": [
    "a = 330\n",
    "b = 330\n",
    "\n",
    "print(\"a\") if a>b else print(\"=\") if a == b else print( \"b\")"
   ]
  },
  {
   "cell_type": "code",
   "execution_count": 11,
   "metadata": {},
   "outputs": [],
   "source": [
    "a = 200\n",
    "b = 33\n",
    "c = 500\n",
    "\n",
    "if a > b and c < a:\n",
    "    print(\"Both conditions are True\")"
   ]
  },
  {
   "cell_type": "code",
   "execution_count": 12,
   "metadata": {},
   "outputs": [
    {
     "name": "stdout",
     "output_type": "stream",
     "text": [
      "ifade True döndürdüğü için çalıştı\n"
     ]
    }
   ],
   "source": [
    "a = 200\n",
    "b = 33\n",
    "c = 500\n",
    "\n",
    "if a > b or a > c:\n",
    "    print(\"ifade True döndürdüğü için çalıştı\")\n",
    "\n"
   ]
  },
  {
   "cell_type": "code",
   "execution_count": 14,
   "metadata": {},
   "outputs": [
    {
     "name": "stdout",
     "output_type": "stream",
     "text": [
      "above ten,\n",
      "but not above 20.\n"
     ]
    }
   ],
   "source": [
    "x = 19\n",
    "\n",
    "if x > 10:\n",
    "    print(\"above ten,\")\n",
    "    if x > 20:\n",
    "        print(\"and also above 20!\")\n",
    "    else:\n",
    "        print(\"but not above 20.\")    "
   ]
  },
  {
   "cell_type": "code",
   "execution_count": 15,
   "metadata": {},
   "outputs": [
    {
     "name": "stdout",
     "output_type": "stream",
     "text": [
      "is x equel to y?:  False\n"
     ]
    }
   ],
   "source": []
  },
  {
   "cell_type": "code",
   "execution_count": 23,
   "metadata": {},
   "outputs": [
    {
     "name": "stdout",
     "output_type": "stream",
     "text": [
      "he is a healthy\n"
     ]
    }
   ],
   "source": [
    "weight = int(input(\"kilonuzu giriniz :\"))\n",
    "\n",
    "if weight >= 85:\n",
    "    print(\"he is a fat\")\n",
    "elif weight >= 65:\n",
    "    print(\"he is a healthy\")\n",
    "else:\n",
    "    print(\"he is very weak!\")        "
   ]
  },
  {
   "cell_type": "code",
   "execution_count": 26,
   "metadata": {},
   "outputs": [
    {
     "name": "stdout",
     "output_type": "stream",
     "text": [
      "böyle bir izleyici yok\n"
     ]
    }
   ],
   "source": [
    "izleyici_kitlesi = \"genc\", \"yetiskin\", \"cocuk\"\n",
    "\n",
    "izleyici =str(input(\"izleyici\"))\n",
    "\n",
    "if izleyici in izleyici_kitlesi:\n",
    "    if izleyici == \"cocuk\":\n",
    "        print(\"ücretsiz bilet\")\n",
    "    elif izleyici == \"genc\":\n",
    "        print(\"indirimli bilet\")\n",
    "    else :\n",
    "        print(\"normal bilet\")\n",
    "else:\n",
    "    print(\"böyle bir izleyici yok\")     \n",
    "\n"
   ]
  },
  {
   "cell_type": "code",
   "execution_count": 31,
   "metadata": {},
   "outputs": [
    {
     "name": "stdout",
     "output_type": "stream",
     "text": [
      "sınav_notu -B\n"
     ]
    }
   ],
   "source": [
    "sınav_notu = int(input(\"sınav notunu giriniz : \"))\n",
    "\n",
    "\n",
    "if sınav_notu >= 90 :\n",
    "    if sınav_notu >=95:\n",
    "        print(\"sınav_notu : A+\")\n",
    "    else :\n",
    "        print(\"sınav_notu :A\")\n",
    "elif sınav_notu >= 80 :\n",
    "    if sınav_notu >= 85:\n",
    "        print(\"sınav_notu : +B\")\n",
    "    else :\n",
    "        print(\"sınav_notu : B\")\n",
    "else :\n",
    "    print(\"sınav_notu -B\")                    "
   ]
  },
  {
   "cell_type": "code",
   "execution_count": 32,
   "metadata": {},
   "outputs": [
    {
     "name": "stdout",
     "output_type": "stream",
     "text": [
      "0\n"
     ]
    }
   ],
   "source": [
    "price = 0.98\n",
    "\n",
    "if price >= 1.00:\n",
    "    tax =.07\n",
    "    print(tax)\n",
    "else:\n",
    "    tax=0\n",
    "    print(tax)    "
   ]
  },
  {
   "cell_type": "code",
   "execution_count": null,
   "metadata": {},
   "outputs": [],
   "source": []
  }
 ],
 "metadata": {
  "kernelspec": {
   "display_name": "Python 3.10.1 64-bit",
   "language": "python",
   "name": "python3"
  },
  "language_info": {
   "codemirror_mode": {
    "name": "ipython",
    "version": 3
   },
   "file_extension": ".py",
   "mimetype": "text/x-python",
   "name": "python",
   "nbconvert_exporter": "python",
   "pygments_lexer": "ipython3",
   "version": "3.10.1"
  },
  "orig_nbformat": 4,
  "vscode": {
   "interpreter": {
    "hash": "1d06fc9ed4b774328ae1669b976a7de461f6c6282277a8a3bb34b5a87421f7ca"
   }
  }
 },
 "nbformat": 4,
 "nbformat_minor": 2
}
