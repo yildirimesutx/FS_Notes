{
 "cells": [
  {
   "cell_type": "markdown",
   "metadata": {},
   "source": [
    "# Python Loops\n",
    "\n",
    "- Python has two primitive loop commands:\n",
    "\n",
    "   - while loops\n",
    "   - for loops"
   ]
  },
  {
   "cell_type": "markdown",
   "metadata": {},
   "source": [
    "# while and for loops "
   ]
  },
  {
   "cell_type": "markdown",
   "metadata": {},
   "source": [
    "- looplar vasıtası ile bir kodumuzu yada elimizde bulunan yapıyı tekrar ettiririz.\n",
    "\n",
    "\n",
    "- while loop ve for loop birbirine benzer yapılardır fakat çalışma prensibleri farklıdır.\n",
    "\n",
    "- for loop iterable lar üzerinden gider. Bir itireble verinin eleman sayısınca iterate eder, iterable elemanları bitince for döngüsünün çalışması da durur.\n",
    "\n",
    "- while loop ise condition lar üzerinden gider. verilen koşul sağlandığı sürece while loop çalışır, False döndüğünde whilw loop çalışmayı durdurur."
   ]
  },
  {
   "cell_type": "markdown",
   "metadata": {},
   "source": [
    "- The while Loop"
   ]
  },
  {
   "cell_type": "code",
   "execution_count": 8,
   "metadata": {},
   "outputs": [
    {
     "ename": "SyntaxError",
     "evalue": "invalid syntax (Temp/ipykernel_13104/3226182749.py, line 3)",
     "output_type": "error",
     "traceback": [
      "\u001b[1;36m  File \u001b[1;32m\"C:\\Users\\info\\AppData\\Local\\Temp/ipykernel_13104/3226182749.py\"\u001b[1;36m, line \u001b[1;32m3\u001b[0m\n\u001b[1;33m    while condition : (: colon önemli)\u001b[0m\n\u001b[1;37m                       ^\u001b[0m\n\u001b[1;31mSyntaxError\u001b[0m\u001b[1;31m:\u001b[0m invalid syntax\n"
     ]
    }
   ],
   "source": [
    "## while loop temel yapısı\n",
    "\n",
    "while condition : (: colon önemli)\n",
    "    body  ## 4 spaceindention"
   ]
  },
  {
   "cell_type": "code",
   "execution_count": null,
   "metadata": {},
   "outputs": [],
   "source": [
    "# while loop lar, condition kısmına boolean değer alırlar yada truthy falsy deger alırlar\n",
    "# condition kısmına neler yazabilir?\n",
    "\n",
    "# while 3>2: ## biz durdurmadığımız sürece sonsuz döngüye girer\n",
    "\n",
    "while True :\n",
    "\n",
    "while None :\n",
    "\n",
    "while False :\n",
    "\n",
    "while {} :\n",
    "\n",
    "while bool(1,2,3 4) + bool(\"A\"+ \"b\" + \"c\"): \n",
    "\n",
    "\n",
    "while \"ahmet\":\n",
    "    print(\"ahmet\")\n",
    "    break\n",
    "\n",
    "while \"ali\" and None or 2021:\n",
    "    "
   ]
  },
  {
   "cell_type": "code",
   "execution_count": null,
   "metadata": {},
   "outputs": [
    {
     "data": {
      "text/plain": [
       "1"
      ]
     },
     "execution_count": 5,
     "metadata": {},
     "output_type": "execute_result"
    }
   ],
   "source": [
    "bool(1) + bool(\"\")\n"
   ]
  },
  {
   "cell_type": "code",
   "execution_count": 11,
   "metadata": {},
   "outputs": [
    {
     "name": "stdout",
     "output_type": "stream",
     "text": [
      "4\n",
      "3\n",
      "2\n",
      "1\n",
      "0\n"
     ]
    }
   ],
   "source": [
    "condition = 5\n",
    "\n",
    "while condition:\n",
    "    condition -= 1\n",
    "    print(condition)"
   ]
  },
  {
   "cell_type": "code",
   "execution_count": 13,
   "metadata": {},
   "outputs": [
    {
     "name": "stdout",
     "output_type": "stream",
     "text": [
      "6.0\n",
      "5.5\n",
      "5.0\n",
      "4.5\n",
      "4.0\n",
      "3.5\n",
      "3.0\n",
      "2.5\n",
      "2.0\n",
      "1.5\n",
      "1.0\n",
      "0.5\n",
      "0.0\n"
     ]
    }
   ],
   "source": [
    "condition = 6.5 \n",
    "\n",
    "while condition:\n",
    "    condition -=0.5\n",
    "    print(condition)\n",
    "    \n",
    "##  Attention: Burada 6.5 degilde mesela 6.8 yazarsak\n",
    "#                     # sürekli 0.5 azalacagindan sonuc 0 a hic düsmez ve sonsuz döngü olur\n"
   ]
  },
  {
   "cell_type": "code",
   "execution_count": 15,
   "metadata": {},
   "outputs": [
    {
     "name": "stdout",
     "output_type": "stream",
     "text": [
      "4\n",
      "3\n",
      "2\n",
      "1\n",
      "0\n"
     ]
    }
   ],
   "source": [
    "condition = 5\n",
    "\n",
    "while True:\n",
    "    condition -= 1\n",
    "    print(condition)\n",
    "    if condition == 0:\n",
    "        break"
   ]
  },
  {
   "cell_type": "code",
   "execution_count": null,
   "metadata": {},
   "outputs": [],
   "source": [
    "while döngümüz, kodumuzun herhangi bir bölgesinde False dönmesi gerekir, Aksi takdirde kodumuz sonsuz döngüye girecektir.\n",
    "\n",
    "a += 1 ya da  a-=1 gibi değişkenler kullanarak her iterationda verimizi değiştirebiliyoruz\n",
    "\n",
    "while döngülerinin içine şart koyularak istenilen durum elde edildiğinde break ile döngüyü durdurabiliyoruz."
   ]
  },
  {
   "cell_type": "markdown",
   "metadata": {},
   "source": [
    "- The break Statement"
   ]
  },
  {
   "cell_type": "code",
   "execution_count": 2,
   "metadata": {},
   "outputs": [
    {
     "name": "stdout",
     "output_type": "stream",
     "text": [
      "1\n",
      "2\n",
      "3\n"
     ]
    }
   ],
   "source": [
    "i = 1\n",
    "\n",
    "while i < 6 :\n",
    "    print(i)\n",
    "    if i == 3:\n",
    "        break\n",
    "    i +=1"
   ]
  },
  {
   "cell_type": "markdown",
   "metadata": {},
   "source": [
    "- The continue Statement"
   ]
  },
  {
   "cell_type": "code",
   "execution_count": 4,
   "metadata": {},
   "outputs": [
    {
     "name": "stdout",
     "output_type": "stream",
     "text": [
      "1\n",
      "2\n",
      "4\n",
      "5\n",
      "6\n"
     ]
    }
   ],
   "source": [
    "i = 0 \n",
    "while i < 6:\n",
    "    i +=1\n",
    "    if i == 3 :\n",
    "        continue\n",
    "    print(i)"
   ]
  },
  {
   "cell_type": "code",
   "execution_count": 5,
   "metadata": {},
   "outputs": [
    {
     "name": "stdout",
     "output_type": "stream",
     "text": [
      "1\n",
      "2\n",
      "3\n",
      "4\n",
      "5\n",
      "i is no longer less than 6\n"
     ]
    }
   ],
   "source": [
    "i = 1\n",
    "while i < 6:\n",
    "  print(i)\n",
    "  i += 1\n",
    "else:\n",
    "  print(\"i is no longer less than 6\")"
   ]
  },
  {
   "cell_type": "code",
   "execution_count": 6,
   "metadata": {},
   "outputs": [
    {
     "name": "stdout",
     "output_type": "stream",
     "text": [
      "square of 0 is : 0 \n",
      "square of 1 is : 1 \n",
      "square of 2 is : 4 \n",
      "square of 3 is : 9 \n",
      "square of 4 is : 16 \n"
     ]
    }
   ],
   "source": [
    "my_list = [\"a\", \"b\", \"c\", \"d\", \"e\"]\n",
    "\n",
    "a = 0\n",
    "\n",
    "while a < len(my_list):\n",
    "    print(\"square of {} is : {} \".format(a,a**2))\n",
    "    a +=1\n",
    "    "
   ]
  },
  {
   "cell_type": "code",
   "execution_count": 8,
   "metadata": {},
   "outputs": [
    {
     "name": "stdout",
     "output_type": "stream",
     "text": [
      "let is play the guessing game!\n",
      "little lower\n",
      "little lower\n",
      "little higher\n",
      "little higher\n",
      "'Are you a MINDREADER!!!'\n"
     ]
    }
   ],
   "source": [
    "# sayı tahmin oyunu\n",
    "\n",
    "answer = 44\n",
    "\n",
    "question = \"What number am I thinking of?\"\n",
    "print(\"let is play the guessing game!\")\n",
    "\n",
    "\n",
    "while True :\n",
    "    guess = int(input(question))\n",
    "\n",
    "    if guess > answer :\n",
    "        print(\"little lower\")\n",
    "    elif guess < answer :\n",
    "        print(\"little higher\") \n",
    "    else:\n",
    "        print(\"'Are you a MINDREADER!!!'\")\n",
    "        break       \n"
   ]
  },
  {
   "cell_type": "code",
   "execution_count": 17,
   "metadata": {},
   "outputs": [
    {
     "name": "stdout",
     "output_type": "stream",
     "text": [
      "14\n"
     ]
    }
   ],
   "source": [
    "girdi = input(\"bir cümle giriniz aralarında boşluk olacak şekilde\")\n",
    "\n",
    "new = girdi.split()\n",
    "\n",
    "# print(len(new))\n",
    "\n",
    "counter = 0\n",
    "longest = 0\n",
    "\n",
    "\n",
    "\n",
    "while counter < len(new):\n",
    "    a = new[counter]\n",
    "    counter +=1\n",
    "\n",
    "    if len(a) > longest:\n",
    "        longest = len(a)\n",
    "    else:\n",
    "        longest = longest\n",
    "\n",
    "print(longest)            "
   ]
  },
  {
   "cell_type": "code",
   "execution_count": 19,
   "metadata": {},
   "outputs": [
    {
     "name": "stdout",
     "output_type": "stream",
     "text": [
      "[0, 1, 2, 3, 4]\n"
     ]
    }
   ],
   "source": [
    "liste = [1, 2, 3, 4, 5]\n",
    "\n",
    "bos = []\n",
    "\n",
    "i = 0\n",
    "\n",
    "while i < len(liste):\n",
    "    bos.append(i)\n",
    "    i += 1\n",
    "print(bos)    "
   ]
  },
  {
   "cell_type": "markdown",
   "metadata": {},
   "source": [
    "# Python For Loops"
   ]
  },
  {
   "cell_type": "code",
   "execution_count": null,
   "metadata": {},
   "outputs": [],
   "source": [
    "for loop lar ile dict list tuple set ve string yapıları döndürebiliuoruz.\n"
   ]
  },
  {
   "cell_type": "code",
   "execution_count": null,
   "metadata": {},
   "outputs": [],
   "source": [
    "for variable in iterable:\n",
    "  body\n",
    "\n",
    "  "
   ]
  },
  {
   "cell_type": "code",
   "execution_count": 20,
   "metadata": {},
   "outputs": [
    {
     "name": "stdout",
     "output_type": "stream",
     "text": [
      "apple\n",
      "banana\n",
      "cherry\n"
     ]
    }
   ],
   "source": [
    "fruits = [\"apple\", \"banana\", \"cherry\"]\n",
    "\n",
    "for i in fruits:\n",
    "    print(i)"
   ]
  },
  {
   "cell_type": "code",
   "execution_count": 21,
   "metadata": {},
   "outputs": [
    {
     "name": "stdout",
     "output_type": "stream",
     "text": [
      "b\n",
      "a\n",
      "n\n",
      "a\n",
      "n\n",
      "a\n"
     ]
    }
   ],
   "source": [
    "for x in \"banana\":\n",
    "    print(x)"
   ]
  },
  {
   "cell_type": "code",
   "execution_count": 22,
   "metadata": {},
   "outputs": [
    {
     "name": "stdout",
     "output_type": "stream",
     "text": [
      "apple\n",
      "banana\n"
     ]
    }
   ],
   "source": [
    "fruits = [\"apple\", \"banana\", \"cherry\"]\n",
    "\n",
    "for x in fruits:\n",
    "    print(x)\n",
    "    if x == \"banana\":\n",
    "        break"
   ]
  },
  {
   "cell_type": "code",
   "execution_count": 23,
   "metadata": {},
   "outputs": [
    {
     "name": "stdout",
     "output_type": "stream",
     "text": [
      "apple\n"
     ]
    }
   ],
   "source": [
    "fruits = [\"apple\", \"banana\", \"cherry\"]\n",
    "for x in fruits:\n",
    "  if x == \"banana\":\n",
    "    break\n",
    "  print(x)"
   ]
  },
  {
   "cell_type": "code",
   "execution_count": 24,
   "metadata": {},
   "outputs": [
    {
     "name": "stdout",
     "output_type": "stream",
     "text": [
      "apple\n",
      "cherry\n"
     ]
    }
   ],
   "source": [
    "fruits = [\"apple\", \"banana\", \"cherry\"]\n",
    "for x in fruits:\n",
    "  if x == \"banana\":\n",
    "    continue\n",
    "  print(x)"
   ]
  },
  {
   "cell_type": "code",
   "execution_count": 25,
   "metadata": {},
   "outputs": [
    {
     "name": "stdout",
     "output_type": "stream",
     "text": [
      "0\n",
      "1\n",
      "2\n",
      "3\n",
      "4\n",
      "5\n"
     ]
    }
   ],
   "source": [
    "for x in range(6):\n",
    "    print(x)"
   ]
  },
  {
   "cell_type": "code",
   "execution_count": 27,
   "metadata": {},
   "outputs": [
    {
     "name": "stdout",
     "output_type": "stream",
     "text": [
      "2\n",
      "3\n",
      "4\n",
      "5\n"
     ]
    }
   ],
   "source": [
    "for x in range(2,6):\n",
    "   print(x)"
   ]
  },
  {
   "cell_type": "code",
   "execution_count": 29,
   "metadata": {},
   "outputs": [
    {
     "name": "stdout",
     "output_type": "stream",
     "text": [
      "0\n",
      "2\n",
      "4\n",
      "6\n",
      "8\n",
      "10\n",
      "12\n",
      "14\n",
      "16\n",
      "18\n"
     ]
    }
   ],
   "source": [
    "for x in range(0,20,2):\n",
    "  print(x)"
   ]
  },
  {
   "cell_type": "code",
   "execution_count": 30,
   "metadata": {},
   "outputs": [
    {
     "name": "stdout",
     "output_type": "stream",
     "text": [
      "0\n",
      "1\n",
      "2\n",
      "3\n",
      "4\n",
      "5\n",
      "finally finished\n"
     ]
    }
   ],
   "source": [
    "for x in range(6):\n",
    "    print(x)\n",
    "else :\n",
    "    print(\"finally finished\")    "
   ]
  },
  {
   "cell_type": "code",
   "execution_count": 32,
   "metadata": {},
   "outputs": [
    {
     "name": "stdout",
     "output_type": "stream",
     "text": [
      "0\n",
      "1\n",
      "2\n"
     ]
    }
   ],
   "source": [
    "for x in range(6):\n",
    "    if x == 3 :\n",
    "        break\n",
    "    print(x)\n",
    "else:\n",
    "    print(\"finaly\")    "
   ]
  },
  {
   "cell_type": "code",
   "execution_count": 33,
   "metadata": {},
   "outputs": [
    {
     "name": "stdout",
     "output_type": "stream",
     "text": [
      "red apple\n",
      "red banana\n",
      "red cherry\n",
      "big apple\n",
      "big banana\n",
      "big cherry\n",
      "tasty apple\n",
      "tasty banana\n",
      "tasty cherry\n"
     ]
    }
   ],
   "source": [
    "adj = [\"red\", \"big\", \"tasty\"]\n",
    "fruits = [\"apple\", \"banana\", \"cherry\"]\n",
    "\n",
    "for x in adj:\n",
    "  for y in fruits:\n",
    "    print(x, y)"
   ]
  },
  {
   "cell_type": "code",
   "execution_count": 2,
   "metadata": {},
   "outputs": [
    {
     "name": "stdout",
     "output_type": "stream",
     "text": [
      "0\n",
      "1\n",
      "2\n",
      "3\n",
      "4\n",
      "5\n",
      "6\n",
      "7\n",
      "7\n"
     ]
    }
   ],
   "source": [
    "for i in range(0,8):\n",
    "    print(i)\n",
    "\n",
    "print(i)"
   ]
  },
  {
   "cell_type": "code",
   "execution_count": null,
   "metadata": {},
   "outputs": [],
   "source": [
    "##  hatirlatma:\n",
    "# range func icerisindeki degerleri ortaya cikarmanin birkac yolu vardir\n",
    "# 1:  for döngüsü icinde kullanma\n",
    "# 2:  list, tuple ve set gibi func'lar icerisinde kullanma\n",
    "# 3:  range func önünde yildiz kullanma(asteriks)\n"
   ]
  },
  {
   "cell_type": "code",
   "execution_count": 3,
   "metadata": {},
   "outputs": [
    {
     "name": "stdout",
     "output_type": "stream",
     "text": [
      "0 1 2 3 4 5 6 7 8 9\n"
     ]
    }
   ],
   "source": [
    "print(*range(10))"
   ]
  },
  {
   "cell_type": "code",
   "execution_count": 6,
   "metadata": {},
   "outputs": [
    {
     "name": "stdout",
     "output_type": "stream",
     "text": [
      "[0, 1, 2, 3, 4, 5, 6, 7, 8, 9]\n",
      "(0, 1, 2, 3, 4, 5, 6, 7, 8, 9)\n",
      "{0, 1, 2, 3, 4, 5, 6, 7, 8, 9}\n"
     ]
    }
   ],
   "source": [
    "print(list(range(0,10)))\n",
    "print(tuple(range(0,10)))\n",
    "print(set(range(0,10)))\n",
    "# print(dict(range(0.10))) #çalışmadı"
   ]
  },
  {
   "cell_type": "code",
   "execution_count": 8,
   "metadata": {},
   "outputs": [
    {
     "name": "stdout",
     "output_type": "stream",
     "text": [
      "1\n",
      "cilek\n",
      "2.5\n",
      "True\n",
      "None\n",
      "0\n",
      "(3+5j)\n"
     ]
    }
   ],
   "source": [
    "tuplem = (1, \"cilek\", 2.5, True, None, 0, 3+5j)\n",
    "\n",
    "for i in tuplem:   ### tuple larda for loop calisir mi??\n",
    "    print(i)"
   ]
  },
  {
   "cell_type": "code",
   "execution_count": 9,
   "metadata": {},
   "outputs": [
    {
     "name": "stdout",
     "output_type": "stream",
     "text": [
      "0\n",
      "1\n",
      "2.5\n",
      "(3+5j)\n",
      "kiraz\n",
      "None\n"
     ]
    }
   ],
   "source": [
    "setim ={1, \"kiraz\", 2.5, True, None, 0, 3+5j}\n",
    "\n",
    "for i in setim:\n",
    "    print(i)"
   ]
  },
  {
   "cell_type": "code",
   "execution_count": 13,
   "metadata": {},
   "outputs": [
    {
     "name": "stdout",
     "output_type": "stream",
     "text": [
      "Ford\n",
      "Mustang\n",
      "1964\n"
     ]
    }
   ],
   "source": [
    "thisdict = {\n",
    "  \"brand\": \"Ford\",\n",
    "  \"model\": \"Mustang\",\n",
    "  \"year\": 1964\n",
    "}\n",
    "\n",
    "for i in thisdict.values():\n",
    "    print(i)"
   ]
  },
  {
   "cell_type": "code",
   "execution_count": 33,
   "metadata": {},
   "outputs": [
    {
     "name": "stdout",
     "output_type": "stream",
     "text": [
      "['zbrand', 'model', 'year']\n",
      "['zbrand', 'model', 'year', 'file']\n"
     ]
    },
    {
     "data": {
      "text/plain": [
       "['file', 'model', 'year', 'zbrand']"
      ]
     },
     "execution_count": 33,
     "metadata": {},
     "output_type": "execute_result"
    }
   ],
   "source": [
    "thisdict = {\n",
    "  \"zbrand\": \"Ford\",\n",
    "  \"model\": \"Mustang\",\n",
    "  \"year\": 1964\n",
    "}\n",
    "\n",
    "x = []\n",
    "\n",
    "for i in thisdict.keys():\n",
    "    x.append(i)\n",
    "print(x)\n",
    "\n",
    "x.append(\"file\")\n",
    "\n",
    "print(x)\n",
    "\n",
    "x.sort()\n",
    "\n",
    "x\n",
    "\n",
    "\n"
   ]
  },
  {
   "cell_type": "code",
   "execution_count": 34,
   "metadata": {},
   "outputs": [
    {
     "name": "stdout",
     "output_type": "stream",
     "text": [
      "5\n"
     ]
    }
   ],
   "source": [
    "a = [5]\n",
    "\n",
    "for i in a:\n",
    "    print(i)"
   ]
  },
  {
   "cell_type": "code",
   "execution_count": 35,
   "metadata": {},
   "outputs": [
    {
     "name": "stdout",
     "output_type": "stream",
     "text": [
      "Hello ayse, good day\n",
      "Hello emine, good day\n",
      "Hello hakan, good day\n",
      "Hello gökhan, good day\n",
      "Hello tomy, good day\n"
     ]
    }
   ],
   "source": [
    "### Task:\n",
    "# elimizde isimlerden olusan bir liste var.\n",
    "# ve biz her bir ismin önüne hello \n",
    "# ve her bir isimden sonra iyi günler yazmak istiyoruz.\n",
    "# nasil yapariz?\n",
    "\n",
    "\n",
    "liste = [\"ayse\", \"emine\", \"hakan\", \"gökhan\", \"tomy\"]\n",
    "\n",
    "for i in liste:\n",
    "    print(f\"Hello {i}, good day\")\n"
   ]
  },
  {
   "cell_type": "code",
   "execution_count": 36,
   "metadata": {},
   "outputs": [
    {
     "name": "stdout",
     "output_type": "stream",
     "text": [
      "[1, 'kiraz', 2.5, True, None, 0, (3+5j), 'Ankara', 'Istanbul']\n"
     ]
    }
   ],
   "source": [
    "## task\n",
    "# bir tane listemiz var ve biz bu listenin elemanlarini alt alta degil de\n",
    "# yan yana ve bir liste icerisinde yazdirmak istiyoruz\n",
    "# ve sadece tek satir output almak istiyoruz.  nasil yapariz ??\n",
    "\n",
    "liste = [1, \"kiraz\", 2.5, True, None, 0, 3+5j, \"Ankara\", \"Istanbul\"]\n",
    "bos = []\n",
    "\n",
    "\n",
    "for i in liste:\n",
    "    bos.append(i)\n",
    "\n",
    "print(bos)"
   ]
  },
  {
   "cell_type": "code",
   "execution_count": 47,
   "metadata": {},
   "outputs": [
    {
     "name": "stdout",
     "output_type": "stream",
     "text": [
      "n#a#b#e#r\n"
     ]
    }
   ],
   "source": [
    "# task \n",
    "# elimizde bir string var ve biz bu string'in her bir elemani arasina\n",
    "#  # karakteri koymak istiyoruz. ve hepsini tek satirda yan yana\n",
    "# cikti almak istiyoruz. Output'un Veri tipinin de string olmasini\n",
    "# istiyoruz.   nasil yapariz??\n",
    "\n",
    "word = input(\"please Enter a word :\")\n",
    "\n",
    "liste = []\n",
    "\n",
    "for i in word:\n",
    "\n",
    "    liste.append(i)\n",
    "    liste.append(\"#\")\n",
    "\n",
    "\n",
    "a = \"\".join(liste)   \n",
    "print(a.strip(\"#\"))\n",
    "\n"
   ]
  },
  {
   "cell_type": "markdown",
   "metadata": {},
   "source": [
    "- String metodlar\n",
    "\n",
    "- join() : Bir sıralı nesnenin (liste, çokuz, dize, vs.) dize tipi elemanlarını birleştirir\n"
   ]
  },
  {
   "cell_type": "code",
   "execution_count": null,
   "metadata": {},
   "outputs": [],
   "source": [
    ">>> \"\".join([\"A\",\"67\",\"B\",\"0.15\"])    # yanyana yapıştır\n",
    "'A67B0.15'\n",
    ">>> \" \".join([\"A\",\"67\",\"B\",\"0.15\"])   # araya bir boşluk koyarak yapıştır\n",
    "'A 67 B 0.15'\n",
    ">>> \"-*-\".join([\"A\",\"67\",\"B\",\"0.15\"]) # araya -*- koyarak yapıştır\n",
    "'A-*-67-*-B-*-0.15'"
   ]
  },
  {
   "cell_type": "code",
   "execution_count": 4,
   "metadata": {},
   "outputs": [
    {
     "name": "stdout",
     "output_type": "stream",
     "text": [
      "a#n#k#a#r#a\n"
     ]
    }
   ],
   "source": [
    "# 2.yöntem\n",
    "\n",
    "girdi = input(\"bir kelime giriniz :\")\n",
    "\n",
    "counter = 0\n",
    "\n",
    "for i in girdi:\n",
    "    counter +=1\n",
    "    if counter < len(girdi):\n",
    "        print(i, end=\"#\")\n",
    "    else:\n",
    "        print(i)    \n",
    "   "
   ]
  },
  {
   "cell_type": "code",
   "execution_count": 5,
   "metadata": {},
   "outputs": [
    {
     "name": "stdout",
     "output_type": "stream",
     "text": [
      "name\n",
      "Surname\n",
      "age\n"
     ]
    }
   ],
   "source": [
    "user = {\"name\" : \"Daniel\",\"Surname\" : \"Smith\",\"age\" : 35}\n",
    "\n",
    "for i in user:\n",
    "  print(i)"
   ]
  },
  {
   "cell_type": "code",
   "execution_count": 6,
   "metadata": {},
   "outputs": [
    {
     "name": "stdout",
     "output_type": "stream",
     "text": [
      "('name', 'Daniel')\n",
      "<class 'tuple'>\n",
      "('Surname', 'Smith')\n",
      "<class 'tuple'>\n",
      "('age', 35)\n",
      "<class 'tuple'>\n"
     ]
    }
   ],
   "source": [
    "user = {\n",
    "    \"name\" : \"Daniel\",\n",
    "    \"Surname\" : \"Smith\",\n",
    "    \"age\" : 35\n",
    "}\n",
    "\n",
    "for i in user.items():\n",
    "  print(i)              ## dikkat sadece i print ediliyor. ama asagida i ve j\n",
    "  print(type(i)) "
   ]
  },
  {
   "cell_type": "code",
   "execution_count": 1,
   "metadata": {},
   "outputs": [
    {
     "name": "stdout",
     "output_type": "stream",
     "text": [
      "name Daniel\n",
      "Surname Smith\n",
      "age 35\n"
     ]
    }
   ],
   "source": [
    "user = {\n",
    "    \"name\" : \"Daniel\",\n",
    "    \"Surname\" : \"Smith\",\n",
    "    \"age\" : 35\n",
    "}\n",
    "\n",
    "for i,j in user.items():\n",
    "    print(i,j)"
   ]
  },
  {
   "cell_type": "code",
   "execution_count": null,
   "metadata": {},
   "outputs": [],
   "source": []
  }
 ],
 "metadata": {
  "kernelspec": {
   "display_name": "Python 3.10.1 32-bit",
   "language": "python",
   "name": "python3"
  },
  "language_info": {
   "codemirror_mode": {
    "name": "ipython",
    "version": 3
   },
   "file_extension": ".py",
   "mimetype": "text/x-python",
   "name": "python",
   "nbconvert_exporter": "python",
   "pygments_lexer": "ipython3",
   "version": "3.10.1"
  },
  "orig_nbformat": 4,
  "vscode": {
   "interpreter": {
    "hash": "d9d8571b2b9c87efddb2dbc59192ba4a51821a03b900ec0a6d07b645da709eb8"
   }
  }
 },
 "nbformat": 4,
 "nbformat_minor": 2
}
