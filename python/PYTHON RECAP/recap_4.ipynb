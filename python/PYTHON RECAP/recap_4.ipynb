{
 "cells": [
  {
   "cell_type": "markdown",
   "metadata": {},
   "source": [
    "# Python Functions"
   ]
  },
  {
   "cell_type": "code",
   "execution_count": 1,
   "metadata": {},
   "outputs": [],
   "source": [
    "def my_function():\n",
    "    print(\"hello this is my first function\")"
   ]
  },
  {
   "cell_type": "code",
   "execution_count": 2,
   "metadata": {},
   "outputs": [
    {
     "name": "stdout",
     "output_type": "stream",
     "text": [
      "hello this is my first function\n"
     ]
    }
   ],
   "source": [
    "my_function()"
   ]
  },
  {
   "cell_type": "markdown",
   "metadata": {},
   "source": [
    "Fonksiyon tanımında yazılanlar parametere, fonksiyon çağırılırken gönderilen nesneler ise argüman.\n",
    "\n",
    "func tanımlarken kullanılan değerler parametere, kullanıcı tarafından girilen değerlere argüman denir"
   ]
  },
  {
   "cell_type": "code",
   "execution_count": 6,
   "metadata": {},
   "outputs": [
    {
     "name": "stdout",
     "output_type": "stream",
     "text": [
      "emil Refsnes\n",
      "tobias Refsnes\n"
     ]
    }
   ],
   "source": [
    "def my_function(fname):\n",
    "    print(fname + \" Refsnes\")\n",
    "\n",
    "my_function(\"emil\")\n",
    "my_function(\"tobias\")\n",
    "\n"
   ]
  },
  {
   "cell_type": "code",
   "execution_count": 8,
   "metadata": {},
   "outputs": [
    {
     "name": "stdout",
     "output_type": "stream",
     "text": [
      "mesut yıldırım\n"
     ]
    }
   ],
   "source": [
    "def my_function(fname, lname):  # 2 parametre aldığı için 2 argüman girilmelidir \n",
    "    print(fname + \" \"+ lname)\n",
    "\n",
    "my_function(\"mesut\", \"yıldırım\")    \n"
   ]
  },
  {
   "cell_type": "markdown",
   "metadata": {},
   "source": [
    "- Arbitrary Arguments, *args\n",
    "\n",
    "If you do not know how many arguments that will be passed into your function, add a * before the parameter name in the function definition."
   ]
  },
  {
   "cell_type": "code",
   "execution_count": 10,
   "metadata": {},
   "outputs": [
    {
     "name": "stdout",
     "output_type": "stream",
     "text": [
      "the youngest child is mete\n"
     ]
    }
   ],
   "source": [
    "def my_function(*kids):\n",
    "    print(\"the youngest child is \" + kids[0])\n",
    "\n",
    "my_function(\"mete\", \"mete1\", \"mete2\")    "
   ]
  },
  {
   "cell_type": "markdown",
   "metadata": {},
   "source": [
    "- Keyword Arguments\n",
    "\n",
    "    - You can also send arguments with the key = value syntax.\n",
    "\n",
    "    - This way the order of the arguments does not matter.\n",
    "\n",
    "    - The phrase Keyword Arguments are often shortened to kwargs in Python documentations."
   ]
  },
  {
   "cell_type": "code",
   "execution_count": 11,
   "metadata": {},
   "outputs": [
    {
     "name": "stdout",
     "output_type": "stream",
     "text": [
      "the youngest child is Linus\n"
     ]
    }
   ],
   "source": [
    "def my_function(child3, child1, child2):\n",
    "    print(\"the youngest child is \" + child3)\n",
    "\n",
    "my_function(child1 = \"Emil\", child2 = \"Tobias\", child3 = \"Linus\")   "
   ]
  },
  {
   "cell_type": "markdown",
   "metadata": {},
   "source": [
    "- Arbitrary Keyword Arguments, **kwargs\n",
    "    - If you do not know how many keyword arguments that will be passed into your function, add two asterisk: ** before the parameter name in the function definition.\n",
    "\n",
    "    - This way the function will receive a dictionary of arguments, and can access the items accordingly:"
   ]
  },
  {
   "cell_type": "code",
   "execution_count": 12,
   "metadata": {},
   "outputs": [
    {
     "name": "stdout",
     "output_type": "stream",
     "text": [
      "His last name is Refsnes\n"
     ]
    }
   ],
   "source": [
    "def my_function(**kid):\n",
    "    print(\"his last is \" + kid[\"lname\"])\n",
    "\n",
    "my_function(fname=\"tabias\", lanme=\"refsnes\")    "
   ]
  },
  {
   "cell_type": "markdown",
   "metadata": {},
   "source": [
    "- Default Parameter Value\n",
    "     - The following example shows how to use a default parameter value.\n",
    "\n",
    "     - If we call the function without argument, it uses the default value:"
   ]
  },
  {
   "cell_type": "code",
   "execution_count": 13,
   "metadata": {},
   "outputs": [],
   "source": [
    "def my_function(country = \"Norway\") :\n",
    "    print(\"I am from \" + country)"
   ]
  },
  {
   "cell_type": "code",
   "execution_count": 14,
   "metadata": {},
   "outputs": [
    {
     "name": "stdout",
     "output_type": "stream",
     "text": [
      "I am from turkey\n"
     ]
    }
   ],
   "source": [
    "my_function(\"turkey\")"
   ]
  },
  {
   "cell_type": "code",
   "execution_count": 15,
   "metadata": {},
   "outputs": [
    {
     "name": "stdout",
     "output_type": "stream",
     "text": [
      "apple\n",
      "banana\n",
      "cherry\n"
     ]
    }
   ],
   "source": [
    "def my_function(food):\n",
    "    for x in food:\n",
    "        print(x)\n",
    "\n",
    "\n",
    "fruits = [\"apple\", \"banana\", \"cherry\"]\n",
    "\n",
    "my_function(fruits)\n"
   ]
  },
  {
   "cell_type": "code",
   "execution_count": 1,
   "metadata": {},
   "outputs": [
    {
     "name": "stdout",
     "output_type": "stream",
     "text": [
      "1\n",
      "3\n",
      "6\n",
      "10\n",
      "15\n",
      "21\n"
     ]
    },
    {
     "data": {
      "text/plain": [
       "21"
      ]
     },
     "execution_count": 1,
     "metadata": {},
     "output_type": "execute_result"
    }
   ],
   "source": [
    "def tri_recursion(k):\n",
    "    if(k > 0):\n",
    "        result = k +tri_recursion(k-1)\n",
    "        print(result)\n",
    "    else:\n",
    "        result=0\n",
    "    return result\n",
    "\n",
    "tri_recursion(6)  \n",
    "\n",
    "\n",
    "\n"
   ]
  },
  {
   "cell_type": "code",
   "execution_count": 4,
   "metadata": {},
   "outputs": [
    {
     "name": "stdout",
     "output_type": "stream",
     "text": [
      "10\n"
     ]
    },
    {
     "data": {
      "text/plain": [
       "10"
      ]
     },
     "execution_count": 4,
     "metadata": {},
     "output_type": "execute_result"
    }
   ],
   "source": [
    "def multiply(a,b):\n",
    "    print(a*b)\n",
    "\n",
    "def multiply_2(a,b):\n",
    "    return a*b \n",
    "\n",
    "\n",
    "multiply(2,5)\n",
    "\n",
    "multiply_2(2,5)"
   ]
  },
  {
   "cell_type": "code",
   "execution_count": 7,
   "metadata": {},
   "outputs": [
    {
     "name": "stdout",
     "output_type": "stream",
     "text": [
      "10\n",
      "<class 'NoneType'>\n",
      "<class 'int'>\n"
     ]
    }
   ],
   "source": [
    "print(type(multiply(2,5)))\n",
    "print(type(multiply_2(2,5)))"
   ]
  },
  {
   "cell_type": "markdown",
   "metadata": {},
   "source": [
    "- Fark ettiğiniz gibi, çıktılar aynı. O zaman fark nedir? Pekala, ilk fonksiyon sadece girdiğiniz bazı verileri yazdırır. İkincisi, sayısal bir tür değeri üretir. Türlerini kontrol ederseniz şunları görürsünüz:\n",
    "\n",
    "- Yani programımızda ihtiyaç duyduğumuzda ilk fonksiyonun sonucunu NoneType verisi olduğu için kullanamıyoruz. Ancak ikincisi, gelecekte ihtiyaç duyduğumuzda kullanabileceğimiz tamsayı verilerdir. Python'un en iyi bilinen fonksiyonunu kullanarak bu konuya bir göz atalım."
   ]
  },
  {
   "cell_type": "code",
   "execution_count": 14,
   "metadata": {},
   "outputs": [
    {
     "name": "stdout",
     "output_type": "stream",
     "text": [
      "12\n"
     ]
    }
   ],
   "source": [
    "def my_function(a,b):\n",
    "    area = a*b\n",
    "    return area\n",
    "\n",
    "def my_func(a,b):\n",
    "    area = a*b\n",
    "    print(area)\n",
    "\n",
    "\n",
    "my_function(3,5)\n",
    "\n",
    "my_func(3,4)\n"
   ]
  },
  {
   "cell_type": "code",
   "execution_count": 15,
   "metadata": {},
   "outputs": [
    {
     "name": "stdout",
     "output_type": "stream",
     "text": [
      "<class 'int'>\n",
      "15\n",
      "<class 'NoneType'>\n"
     ]
    }
   ],
   "source": [
    "print(type(my_function(3,5)))\n",
    "print(type(my_func(3,5)))"
   ]
  },
  {
   "cell_type": "code",
   "execution_count": 17,
   "metadata": {},
   "outputs": [
    {
     "data": {
      "text/plain": [
       "'richarder'"
      ]
     },
     "execution_count": 17,
     "metadata": {},
     "output_type": "execute_result"
    }
   ],
   "source": [
    "def logger(a,b):\n",
    "    if len(a) >= len(b):\n",
    "        return a\n",
    "    else:\n",
    "        return b\n",
    "\n",
    "\n",
    "logger(\"michelin\", \"richard\")\n"
   ]
  },
  {
   "cell_type": "code",
   "execution_count": 30,
   "metadata": {},
   "outputs": [
    {
     "name": "stdout",
     "output_type": "stream",
     "text": [
      "adınız: mesut\n",
      "soyadınız : mete\n"
     ]
    }
   ],
   "source": [
    "def who(first, last):\n",
    "    print(\"adınız:\", first )\n",
    "    print(\"soyadınız :\", last)\n",
    "\n",
    "    \n",
    "\n",
    "\n",
    "who(\"mesut\", \"mete\")"
   ]
  },
  {
   "cell_type": "code",
   "execution_count": 31,
   "metadata": {},
   "outputs": [
    {
     "ename": "TypeError",
     "evalue": "who() missing 1 required positional argument: 'last'",
     "output_type": "error",
     "traceback": [
      "\u001b[1;31m---------------------------------------------------------------------------\u001b[0m",
      "\u001b[1;31mTypeError\u001b[0m                                 Traceback (most recent call last)",
      "\u001b[1;32m~\\AppData\\Local\\Temp/ipykernel_26016/2349511863.py\u001b[0m in \u001b[0;36m<module>\u001b[1;34m\u001b[0m\n\u001b[1;32m----> 1\u001b[1;33m \u001b[0mwho\u001b[0m\u001b[1;33m(\u001b[0m\u001b[1;34m\"joseph\"\u001b[0m\u001b[1;33m)\u001b[0m\u001b[1;33m\u001b[0m\u001b[1;33m\u001b[0m\u001b[0m\n\u001b[0m",
      "\u001b[1;31mTypeError\u001b[0m: who() missing 1 required positional argument: 'last'"
     ]
    }
   ],
   "source": [
    "who(\"joseph\")"
   ]
  },
  {
   "cell_type": "code",
   "execution_count": 33,
   "metadata": {},
   "outputs": [
    {
     "name": "stdout",
     "output_type": "stream",
     "text": [
      "3 is the first argument\n",
      "4 is the second argument\n"
     ]
    }
   ],
   "source": [
    "def pos_args(a,b):\n",
    "    print(a, \"is the first argument\")\n",
    "    print(b, \"is the second argument\")\n",
    "\n",
    "pos_args(3,4)   "
   ]
  },
  {
   "cell_type": "code",
   "execution_count": 34,
   "metadata": {},
   "outputs": [
    {
     "name": "stdout",
     "output_type": "stream",
     "text": [
      "Atina in Europe\n",
      "Ulaanbaatar in Asia\n",
      "Cape Town in Africa\n"
     ]
    }
   ],
   "source": [
    "# Varsayılan değerlere sahip parametreler tarafından tanımlanan bir işlevi çağırırken, \n",
    "# işleve herhangi bir argüman iletme zorunluluğu yoktur.\n",
    "def city(capital, continent='Europe'): \n",
    "    print(capital, 'in', continent) \n",
    "\n",
    "city('Atina') # 'continent' \n",
    "city('Ulaanbaatar', continent= 'Asia') # varsayılan değeri kwargs ile değiştirebiliriz.\n",
    "city('Cape Town', 'Africa') # varsayılan değeri konumsal argümanlarla değiştirebiliriz."
   ]
  },
  {
   "cell_type": "code",
   "execution_count": 36,
   "metadata": {},
   "outputs": [
    {
     "name": "stdout",
     "output_type": "stream",
     "text": [
      "ı would like to get: \n",
      "- banana\n",
      "- cherry\n",
      "- aplle\n",
      "- melon\n"
     ]
    }
   ],
   "source": [
    "def fruit_new(*fruit):\n",
    "    print(\"ı would like to get: \")\n",
    "    for i in fruit:\n",
    "        print(\"-\", i)\n",
    "\n",
    "fruit_new(\"banana\", \"cherry\", \"aplle\", \"melon\")\n",
    "\n",
    "#==>Yukarıda görebileceğiniz gibi, bir meyve (argüman) listesini bir parametreye (meyve) aktardık. çok kullanışlı değil mi!\n"
   ]
  },
  {
   "cell_type": "code",
   "execution_count": 37,
   "metadata": {},
   "outputs": [
    {
     "name": "stdout",
     "output_type": "stream",
     "text": [
      "Carnivores are Lions\n",
      "Omnivores are Bears\n",
      "Herbivores are Deers\n",
      "Nomnivores are Human\n"
     ]
    }
   ],
   "source": [
    "# the formula syntax is : **kwargs.\n",
    "def animals(**kwargs):\n",
    "    for i, j in kwargs.items():\n",
    "        print(i, \"are\", j)\n",
    " \n",
    "animals(Carnivores=\"Lions\", Omnivores=\"Bears\", Herbivores=\"Deers\", Nomnivores=\"Human\")\n",
    "# burada farkettiysek keyword kullanımında dictionary olarak çağırıyoruz."
   ]
  },
  {
   "cell_type": "code",
   "execution_count": 38,
   "metadata": {},
   "outputs": [
    {
     "name": "stdout",
     "output_type": "stream",
     "text": [
      "inner variable\n"
     ]
    }
   ],
   "source": [
    "my_var = 'outer variable'\n",
    "\n",
    "def func_var(): \n",
    "\tmy_var= 'inner variable'\n",
    "\tprint(my_var) \n",
    "\n",
    "func_var() \n"
   ]
  },
  {
   "cell_type": "markdown",
   "metadata": {},
   "source": [
    "# Lambda Functions"
   ]
  }
 ],
 "metadata": {
  "kernelspec": {
   "display_name": "Python 3.10.1 32-bit",
   "language": "python",
   "name": "python3"
  },
  "language_info": {
   "codemirror_mode": {
    "name": "ipython",
    "version": 3
   },
   "file_extension": ".py",
   "mimetype": "text/x-python",
   "name": "python",
   "nbconvert_exporter": "python",
   "pygments_lexer": "ipython3",
   "version": "3.10.1"
  },
  "orig_nbformat": 4,
  "vscode": {
   "interpreter": {
    "hash": "d9d8571b2b9c87efddb2dbc59192ba4a51821a03b900ec0a6d07b645da709eb8"
   }
  }
 },
 "nbformat": 4,
 "nbformat_minor": 2
}
