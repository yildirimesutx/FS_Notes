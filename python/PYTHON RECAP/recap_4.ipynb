{
 "cells": [
  {
   "cell_type": "markdown",
   "metadata": {},
   "source": [
    "# Python Functions"
   ]
  },
  {
   "cell_type": "code",
   "execution_count": 1,
   "metadata": {},
   "outputs": [],
   "source": [
    "def my_function():\n",
    "    print(\"hello this is my first function\")"
   ]
  },
  {
   "cell_type": "code",
   "execution_count": 2,
   "metadata": {},
   "outputs": [
    {
     "name": "stdout",
     "output_type": "stream",
     "text": [
      "hello this is my first function\n"
     ]
    }
   ],
   "source": [
    "my_function()"
   ]
  },
  {
   "cell_type": "markdown",
   "metadata": {},
   "source": [
    "Fonksiyon tanımında yazılanlar parametere, fonksiyon çağırılırken gönderilen nesneler ise argüman.\n",
    "\n",
    "func tanımlarken kullanılan değerler parametere, kullanıcı tarafından girilen değerlere argüman denir"
   ]
  },
  {
   "cell_type": "code",
   "execution_count": 6,
   "metadata": {},
   "outputs": [
    {
     "name": "stdout",
     "output_type": "stream",
     "text": [
      "emil Refsnes\n",
      "tobias Refsnes\n"
     ]
    }
   ],
   "source": [
    "def my_function(fname):\n",
    "    print(fname + \" Refsnes\")\n",
    "\n",
    "my_function(\"emil\")\n",
    "my_function(\"tobias\")\n",
    "\n"
   ]
  },
  {
   "cell_type": "code",
   "execution_count": 8,
   "metadata": {},
   "outputs": [
    {
     "name": "stdout",
     "output_type": "stream",
     "text": [
      "mesut yıldırım\n"
     ]
    }
   ],
   "source": [
    "def my_function(fname, lname):  # 2 parametre aldığı için 2 argüman girilmelidir \n",
    "    print(fname + \" \"+ lname)\n",
    "\n",
    "my_function(\"mesut\", \"yıldırım\")    \n"
   ]
  },
  {
   "cell_type": "markdown",
   "metadata": {},
   "source": [
    "- Arbitrary Arguments, *args\n",
    "\n",
    "If you do not know how many arguments that will be passed into your function, add a * before the parameter name in the function definition."
   ]
  },
  {
   "cell_type": "code",
   "execution_count": 10,
   "metadata": {},
   "outputs": [
    {
     "name": "stdout",
     "output_type": "stream",
     "text": [
      "the youngest child is mete\n"
     ]
    }
   ],
   "source": [
    "def my_function(*kids):\n",
    "    print(\"the youngest child is \" + kids[0])\n",
    "\n",
    "my_function(\"mete\", \"mete1\", \"mete2\")    "
   ]
  },
  {
   "cell_type": "markdown",
   "metadata": {},
   "source": [
    "- Keyword Arguments\n",
    "\n",
    "    - You can also send arguments with the key = value syntax.\n",
    "\n",
    "    - This way the order of the arguments does not matter.\n",
    "\n",
    "    - The phrase Keyword Arguments are often shortened to kwargs in Python documentations."
   ]
  },
  {
   "cell_type": "code",
   "execution_count": 11,
   "metadata": {},
   "outputs": [
    {
     "name": "stdout",
     "output_type": "stream",
     "text": [
      "the youngest child is Linus\n"
     ]
    }
   ],
   "source": [
    "def my_function(child3, child1, child2):\n",
    "    print(\"the youngest child is \" + child3)\n",
    "\n",
    "my_function(child1 = \"Emil\", child2 = \"Tobias\", child3 = \"Linus\")   "
   ]
  },
  {
   "cell_type": "markdown",
   "metadata": {},
   "source": [
    "- Arbitrary Keyword Arguments, **kwargs\n",
    "    - If you do not know how many keyword arguments that will be passed into your function, add two asterisk: ** before the parameter name in the function definition.\n",
    "\n",
    "    - This way the function will receive a dictionary of arguments, and can access the items accordingly:"
   ]
  },
  {
   "cell_type": "code",
   "execution_count": 12,
   "metadata": {},
   "outputs": [
    {
     "name": "stdout",
     "output_type": "stream",
     "text": [
      "His last name is Refsnes\n"
     ]
    }
   ],
   "source": [
    "def my_function(**kid):\n",
    "    print(\"his last is \" + kid[\"lname\"])\n",
    "\n",
    "my_function(fname=\"tabias\", lanme=\"refsnes\")    "
   ]
  },
  {
   "cell_type": "markdown",
   "metadata": {},
   "source": [
    "- Default Parameter Value\n",
    "     - The following example shows how to use a default parameter value.\n",
    "\n",
    "     - If we call the function without argument, it uses the default value:"
   ]
  },
  {
   "cell_type": "code",
   "execution_count": 13,
   "metadata": {},
   "outputs": [],
   "source": [
    "def my_function(country = \"Norway\") :\n",
    "    print(\"I am from \" + country)"
   ]
  },
  {
   "cell_type": "code",
   "execution_count": 14,
   "metadata": {},
   "outputs": [
    {
     "name": "stdout",
     "output_type": "stream",
     "text": [
      "I am from turkey\n"
     ]
    }
   ],
   "source": [
    "my_function(\"turkey\")"
   ]
  },
  {
   "cell_type": "code",
   "execution_count": 15,
   "metadata": {},
   "outputs": [
    {
     "name": "stdout",
     "output_type": "stream",
     "text": [
      "apple\n",
      "banana\n",
      "cherry\n"
     ]
    }
   ],
   "source": [
    "def my_function(food):\n",
    "    for x in food:\n",
    "        print(x)\n",
    "\n",
    "\n",
    "fruits = [\"apple\", \"banana\", \"cherry\"]\n",
    "\n",
    "my_function(fruits)\n"
   ]
  },
  {
   "cell_type": "code",
   "execution_count": 1,
   "metadata": {},
   "outputs": [
    {
     "name": "stdout",
     "output_type": "stream",
     "text": [
      "1\n",
      "3\n",
      "6\n",
      "10\n",
      "15\n",
      "21\n"
     ]
    },
    {
     "data": {
      "text/plain": [
       "21"
      ]
     },
     "execution_count": 1,
     "metadata": {},
     "output_type": "execute_result"
    }
   ],
   "source": [
    "def tri_recursion(k):\n",
    "    if(k > 0):\n",
    "        result = k +tri_recursion(k-1)\n",
    "        print(result)\n",
    "    else:\n",
    "        result=0\n",
    "    return result\n",
    "\n",
    "tri_recursion(6)  \n",
    "\n",
    "\n",
    "\n"
   ]
  },
  {
   "cell_type": "code",
   "execution_count": 4,
   "metadata": {},
   "outputs": [
    {
     "name": "stdout",
     "output_type": "stream",
     "text": [
      "10\n"
     ]
    },
    {
     "data": {
      "text/plain": [
       "10"
      ]
     },
     "execution_count": 4,
     "metadata": {},
     "output_type": "execute_result"
    }
   ],
   "source": [
    "def multiply(a,b):\n",
    "    print(a*b)\n",
    "\n",
    "def multiply_2(a,b):\n",
    "    return a*b \n",
    "\n",
    "\n",
    "multiply(2,5)\n",
    "\n",
    "multiply_2(2,5)"
   ]
  },
  {
   "cell_type": "code",
   "execution_count": 7,
   "metadata": {},
   "outputs": [
    {
     "name": "stdout",
     "output_type": "stream",
     "text": [
      "10\n",
      "<class 'NoneType'>\n",
      "<class 'int'>\n"
     ]
    }
   ],
   "source": [
    "print(type(multiply(2,5)))\n",
    "print(type(multiply_2(2,5)))"
   ]
  },
  {
   "cell_type": "markdown",
   "metadata": {},
   "source": [
    "- Fark ettiğiniz gibi, çıktılar aynı. O zaman fark nedir? Pekala, ilk fonksiyon sadece girdiğiniz bazı verileri yazdırır. İkincisi, sayısal bir tür değeri üretir. Türlerini kontrol ederseniz şunları görürsünüz:\n",
    "\n",
    "- Yani programımızda ihtiyaç duyduğumuzda ilk fonksiyonun sonucunu NoneType verisi olduğu için kullanamıyoruz. Ancak ikincisi, gelecekte ihtiyaç duyduğumuzda kullanabileceğimiz tamsayı verilerdir. Python'un en iyi bilinen fonksiyonunu kullanarak bu konuya bir göz atalım."
   ]
  },
  {
   "cell_type": "code",
   "execution_count": 14,
   "metadata": {},
   "outputs": [
    {
     "name": "stdout",
     "output_type": "stream",
     "text": [
      "12\n"
     ]
    }
   ],
   "source": [
    "def my_function(a,b):\n",
    "    area = a*b\n",
    "    return area\n",
    "\n",
    "def my_func(a,b):\n",
    "    area = a*b\n",
    "    print(area)\n",
    "\n",
    "\n",
    "my_function(3,5)\n",
    "\n",
    "my_func(3,4)\n"
   ]
  },
  {
   "cell_type": "code",
   "execution_count": 15,
   "metadata": {},
   "outputs": [
    {
     "name": "stdout",
     "output_type": "stream",
     "text": [
      "<class 'int'>\n",
      "15\n",
      "<class 'NoneType'>\n"
     ]
    }
   ],
   "source": [
    "print(type(my_function(3,5)))\n",
    "print(type(my_func(3,5)))"
   ]
  },
  {
   "cell_type": "code",
   "execution_count": 17,
   "metadata": {},
   "outputs": [
    {
     "data": {
      "text/plain": [
       "'richarder'"
      ]
     },
     "execution_count": 17,
     "metadata": {},
     "output_type": "execute_result"
    }
   ],
   "source": [
    "def logger(a,b):\n",
    "    if len(a) >= len(b):\n",
    "        return a\n",
    "    else:\n",
    "        return b\n",
    "\n",
    "\n",
    "logger(\"michelin\", \"richard\")\n"
   ]
  },
  {
   "cell_type": "code",
   "execution_count": 30,
   "metadata": {},
   "outputs": [
    {
     "name": "stdout",
     "output_type": "stream",
     "text": [
      "adınız: mesut\n",
      "soyadınız : mete\n"
     ]
    }
   ],
   "source": [
    "def who(first, last):\n",
    "    print(\"adınız:\", first )\n",
    "    print(\"soyadınız :\", last)\n",
    "\n",
    "    \n",
    "\n",
    "\n",
    "who(\"mesut\", \"mete\")"
   ]
  },
  {
   "cell_type": "code",
   "execution_count": 31,
   "metadata": {},
   "outputs": [
    {
     "ename": "TypeError",
     "evalue": "who() missing 1 required positional argument: 'last'",
     "output_type": "error",
     "traceback": [
      "\u001b[1;31m---------------------------------------------------------------------------\u001b[0m",
      "\u001b[1;31mTypeError\u001b[0m                                 Traceback (most recent call last)",
      "\u001b[1;32m~\\AppData\\Local\\Temp/ipykernel_26016/2349511863.py\u001b[0m in \u001b[0;36m<module>\u001b[1;34m\u001b[0m\n\u001b[1;32m----> 1\u001b[1;33m \u001b[0mwho\u001b[0m\u001b[1;33m(\u001b[0m\u001b[1;34m\"joseph\"\u001b[0m\u001b[1;33m)\u001b[0m\u001b[1;33m\u001b[0m\u001b[1;33m\u001b[0m\u001b[0m\n\u001b[0m",
      "\u001b[1;31mTypeError\u001b[0m: who() missing 1 required positional argument: 'last'"
     ]
    }
   ],
   "source": [
    "who(\"joseph\")"
   ]
  },
  {
   "cell_type": "code",
   "execution_count": 33,
   "metadata": {},
   "outputs": [
    {
     "name": "stdout",
     "output_type": "stream",
     "text": [
      "3 is the first argument\n",
      "4 is the second argument\n"
     ]
    }
   ],
   "source": [
    "def pos_args(a,b):\n",
    "    print(a, \"is the first argument\")\n",
    "    print(b, \"is the second argument\")\n",
    "\n",
    "pos_args(3,4)   "
   ]
  },
  {
   "cell_type": "code",
   "execution_count": 34,
   "metadata": {},
   "outputs": [
    {
     "name": "stdout",
     "output_type": "stream",
     "text": [
      "Atina in Europe\n",
      "Ulaanbaatar in Asia\n",
      "Cape Town in Africa\n"
     ]
    }
   ],
   "source": [
    "# Varsayılan değerlere sahip parametreler tarafından tanımlanan bir işlevi çağırırken, \n",
    "# işleve herhangi bir argüman iletme zorunluluğu yoktur.\n",
    "def city(capital, continent='Europe'): \n",
    "    print(capital, 'in', continent) \n",
    "\n",
    "city('Atina') # 'continent' \n",
    "city('Ulaanbaatar', continent= 'Asia') # varsayılan değeri kwargs ile değiştirebiliriz.\n",
    "city('Cape Town', 'Africa') # varsayılan değeri konumsal argümanlarla değiştirebiliriz."
   ]
  },
  {
   "cell_type": "code",
   "execution_count": 36,
   "metadata": {},
   "outputs": [
    {
     "name": "stdout",
     "output_type": "stream",
     "text": [
      "ı would like to get: \n",
      "- banana\n",
      "- cherry\n",
      "- aplle\n",
      "- melon\n"
     ]
    }
   ],
   "source": [
    "def fruit_new(*fruit):\n",
    "    print(\"ı would like to get: \")\n",
    "    for i in fruit:\n",
    "        print(\"-\", i)\n",
    "\n",
    "fruit_new(\"banana\", \"cherry\", \"aplle\", \"melon\")\n",
    "\n",
    "#==>Yukarıda görebileceğiniz gibi, bir meyve (argüman) listesini bir parametreye (meyve) aktardık. çok kullanışlı değil mi!\n"
   ]
  },
  {
   "cell_type": "code",
   "execution_count": 37,
   "metadata": {},
   "outputs": [
    {
     "name": "stdout",
     "output_type": "stream",
     "text": [
      "Carnivores are Lions\n",
      "Omnivores are Bears\n",
      "Herbivores are Deers\n",
      "Nomnivores are Human\n"
     ]
    }
   ],
   "source": [
    "# the formula syntax is : **kwargs.\n",
    "def animals(**kwargs):\n",
    "    for i, j in kwargs.items():\n",
    "        print(i, \"are\", j)\n",
    " \n",
    "animals(Carnivores=\"Lions\", Omnivores=\"Bears\", Herbivores=\"Deers\", Nomnivores=\"Human\")\n",
    "# burada farkettiysek keyword kullanımında dictionary olarak çağırıyoruz."
   ]
  },
  {
   "cell_type": "code",
   "execution_count": 38,
   "metadata": {},
   "outputs": [
    {
     "name": "stdout",
     "output_type": "stream",
     "text": [
      "inner variable\n"
     ]
    }
   ],
   "source": [
    "my_var = 'outer variable'\n",
    "\n",
    "def func_var(): \n",
    "\tmy_var= 'inner variable'\n",
    "\tprint(my_var) \n",
    "\n",
    "func_var() \n"
   ]
  },
  {
   "cell_type": "markdown",
   "metadata": {},
   "source": [
    "# Lambda Functions"
   ]
  },
  {
   "cell_type": "markdown",
   "metadata": {},
   "source": [
    "The formula syntax is : lambda parameters : expression\n",
    "\n",
    "\n",
    "Lambda'nın en önemli avantajları ve kullanımları şunlardır:\n",
    "\n",
    "\n",
    "Parantez kullanarak kendi sözdizimi ile kullanabilirsiniz,\n",
    "\n",
    "\n",
    "Ayrıca bir değişkene atayabilirsiniz,\n",
    "\n",
    "\n",
    "Birkaç yerleşik işlevde kullanabilirsiniz,\n",
    "\n",
    "\n",
    "Kullanıcı tanımlı işlevler (def) içinde faydalı olabilir."
   ]
  },
  {
   "cell_type": "code",
   "execution_count": 1,
   "metadata": {},
   "outputs": [
    {
     "data": {
      "text/plain": [
       "4"
      ]
     },
     "execution_count": 1,
     "metadata": {},
     "output_type": "execute_result"
    }
   ],
   "source": [
    "(lambda x : x**2)(2)"
   ]
  },
  {
   "cell_type": "code",
   "execution_count": 2,
   "metadata": {},
   "outputs": [
    {
     "name": "stdout",
     "output_type": "stream",
     "text": [
      "20\n"
     ]
    }
   ],
   "source": [
    "x = lambda a : a + 10\n",
    "\n",
    "print(x(10))"
   ]
  },
  {
   "cell_type": "code",
   "execution_count": 3,
   "metadata": {},
   "outputs": [
    {
     "name": "stdout",
     "output_type": "stream",
     "text": [
      "174\n"
     ]
    }
   ],
   "source": [
    "x = lambda a, b : a*b\n",
    "\n",
    "\n",
    "print(x(2,87))"
   ]
  },
  {
   "cell_type": "code",
   "execution_count": 4,
   "metadata": {},
   "outputs": [
    {
     "name": "stdout",
     "output_type": "stream",
     "text": [
      "mesutyıl\n"
     ]
    }
   ],
   "source": [
    "x = lambda a, b, c : a + b + c\n",
    "\n",
    "print(x(\"mes\", \"ut\", \"yıl\"))"
   ]
  },
  {
   "cell_type": "code",
   "execution_count": 9,
   "metadata": {},
   "outputs": [
    {
     "data": {
      "text/plain": [
       "8.5"
      ]
     },
     "execution_count": 9,
     "metadata": {},
     "output_type": "execute_result"
    }
   ],
   "source": [
    "average = (lambda x,y : (x+y)/2)(9,8)\n",
    "\n",
    "average"
   ]
  },
  {
   "cell_type": "code",
   "execution_count": 10,
   "metadata": {},
   "outputs": [
    {
     "name": "stdout",
     "output_type": "stream",
     "text": [
      "hellohellohello\n"
     ]
    }
   ],
   "source": [
    "echo_word = lambda x,y : x*y\n",
    "\n",
    "print(echo_word(\"hello\", 3))"
   ]
  },
  {
   "cell_type": "code",
   "execution_count": null,
   "metadata": {},
   "outputs": [],
   "source": [
    "# Lambda within Built-in (map()) Functions\n",
    "\n",
    "Lambda within map() function :\n",
    "\n",
    "The basic formula syntax is : map(function, iterable)\n",
    "\n",
    "!!!==>> map(), verilen işlevi liste, tanımlama grubu vb. gibi belirli bir yinelenebilir nesnenin her öğesine uyguladıktan sonra çıktıların bir listesini döndürür."
   ]
  },
  {
   "cell_type": "code",
   "execution_count": 13,
   "metadata": {},
   "outputs": [
    {
     "name": "stdout",
     "output_type": "stream",
     "text": [
      "(1, 4, 9, 16, 25)\n"
     ]
    }
   ],
   "source": [
    "iterable = [1, 2, 3, 4, 5]\n",
    "\n",
    "result = map(lambda x:x**2, iterable)\n",
    "\n",
    "print(tuple(result))"
   ]
  },
  {
   "cell_type": "code",
   "execution_count": 26,
   "metadata": {},
   "outputs": [
    {
     "name": "stdout",
     "output_type": "stream",
     "text": [
      "{5, 6}\n"
     ]
    }
   ],
   "source": [
    "def myfunc(n):\n",
    "    return len(n)\n",
    "\n",
    "y = [\"apple\", \"banana\", \"cherry\"]\n",
    "\n",
    "x = map(myfunc, y)\n",
    "\n",
    "# print(x)\n",
    "# print(*x)\n",
    "# print(list(x))\n",
    "# print(tuple(x))\n",
    "print(set(x))"
   ]
  },
  {
   "cell_type": "code",
   "execution_count": 25,
   "metadata": {},
   "outputs": [
    {
     "name": "stdout",
     "output_type": "stream",
     "text": [
      "{5, 6}\n"
     ]
    }
   ],
   "source": [
    "\n",
    "\n",
    "y = [\"apple\", \"banana\", \"cherry\"]\n",
    "\n",
    "x = map(lambda n : len(n), y)\n",
    "\n",
    "print(set(x))\n"
   ]
  },
  {
   "cell_type": "code",
   "execution_count": 28,
   "metadata": {},
   "outputs": [
    {
     "name": "stdout",
     "output_type": "stream",
     "text": [
      "['one', 'six', 'ten', 'two']\n"
     ]
    }
   ],
   "source": [
    "letter_1 = ['o', 's', 't', 't']\n",
    "letter_2 = [\"n\", \"i\", \"e\", \"w\"]\n",
    "letter_3 = [\"e\", \"x\", \"n\", \"o\"]\n",
    "\n",
    "x = map(lambda x,y,z : x+y+z, letter_1, letter_2, letter_3)\n",
    "\n",
    "print(list(x))"
   ]
  },
  {
   "cell_type": "code",
   "execution_count": 32,
   "metadata": {},
   "outputs": [
    {
     "name": "stdout",
     "output_type": "stream",
     "text": [
      "[1, 27, 125, 343]\n"
     ]
    }
   ],
   "source": [
    "numbers = [1, 3, 5, 7]\n",
    "\n",
    "\n",
    "x = map(lambda a: a**3, numbers)\n",
    "\n",
    "print(list(x))"
   ]
  },
  {
   "cell_type": "markdown",
   "metadata": {},
   "source": [
    "# Lambda within filter() function :\n",
    "\n",
    "The basic formula syntax is : filter(function, sequence)\n",
    "\n",
    "!!!=> filter(), dizideki her öğenin doğru olup olmadığını test eden bir işlev (lambda) yardımıyla verilen diziyi (yinelenebilir nesneler) filtreler."
   ]
  },
  {
   "cell_type": "code",
   "execution_count": 37,
   "metadata": {},
   "outputs": [
    {
     "name": "stdout",
     "output_type": "stream",
     "text": [
      "[0, 2, 4, 6, 8, 10]\n"
     ]
    }
   ],
   "source": [
    "liste = list(range(11))\n",
    "\n",
    "even = filter(lambda x : x%2 ==0, liste)\n",
    "\n",
    "\n",
    "# print(*even)\n",
    "print(list(even))"
   ]
  },
  {
   "cell_type": "code",
   "execution_count": 38,
   "metadata": {},
   "outputs": [
    {
     "name": "stdout",
     "output_type": "stream",
     "text": [
      "['a', 'e', 'i']\n"
     ]
    }
   ],
   "source": [
    "# Bu sefer, listedeki ilk 10 harfin sesli harflerini filtreleyeceğiz.\n",
    "vowel_list = ['a', 'e', 'i', 'o', 'u']\n",
    "first_ten = ['a', 'b', 'c', 'd', 'e', 'f', 'g', 'h', 'i', 'j']\n",
    "\n",
    "\n",
    "vowel_filter = filter(lambda x : True if x in vowel_list else False, first_ten)\n",
    "\n",
    "print(list(vowel_filter))"
   ]
  },
  {
   "cell_type": "code",
   "execution_count": 40,
   "metadata": {},
   "outputs": [
    {
     "name": "stdout",
     "output_type": "stream",
     "text": [
      "[10, 11, 12, 13, 14, 15, 16, 17, 18, 19, 20, 21]\n"
     ]
    }
   ],
   "source": [
    "number_list= list(range(22))\n",
    "\n",
    "greater = filter(lambda x : True if x >9 else False, number_list)\n",
    "\n",
    "print(list(greater))"
   ]
  },
  {
   "cell_type": "markdown",
   "metadata": {},
   "source": [
    "# Lambda within def :\n",
    "\n",
    "\n",
    "Kullanıcı tanımlı bir işlevde lambda deyimi kullanmak bize yararlı fırsatlar sağlar. \n",
    "Program akışımızda daha sonra kullanabileceğimiz bir işlev grubu tanımlayabiliriz. Aşağıdaki örneğe bir göz atın:"
   ]
  },
  {
   "cell_type": "code",
   "execution_count": 43,
   "metadata": {},
   "outputs": [
    {
     "data": {
      "text/plain": [
       "125"
      ]
     },
     "execution_count": 43,
     "metadata": {},
     "output_type": "execute_result"
    }
   ],
   "source": [
    "def moduler_function(n):\n",
    "    return lambda x : x**n\n",
    "\n",
    "\n",
    "\n",
    "power_of_2 = moduler_function(2)\n",
    "power_of_3 = moduler_function(3)\n",
    "power_of_4 = moduler_function(4)\n",
    "\n",
    "\n",
    "# power_of_2(5)\n",
    "power_of_3(5)\n",
    "# power_of_4(5)\n",
    "\n",
    "# burada görüldüğü üzere önce n i tanımladık sonra x e değer gönderdik.\n",
    "\n",
    "\n",
    "   \n",
    "\n"
   ]
  },
  {
   "cell_type": "code",
   "execution_count": 44,
   "metadata": {},
   "outputs": [
    {
     "name": "stdout",
     "output_type": "stream",
     "text": [
      "alex alex \n",
      "lara lara lara \n",
      "linda linda linda linda \n"
     ]
    }
   ],
   "source": [
    "# Bir önceki örnekle aynı mantıkla, içine geçirilen stringi tekrarlayan bir fonksiyon tanımlayabiliriz.\n",
    "def repeater(n):\n",
    "    return lambda x: x * n\n",
    "    \n",
    "repeat_2_times = repeater(2)  # repeats 2 times\n",
    "repeat_3_times = repeater(3)  # repeats 3 times\n",
    "repeat_4_times = repeater(4)  # repeats 4 times\n",
    "\n",
    "print(repeat_2_times('alex '))\n",
    "print(repeat_3_times('lara '))\n",
    "print(repeat_4_times('linda '))"
   ]
  },
  {
   "cell_type": "code",
   "execution_count": 46,
   "metadata": {},
   "outputs": [
    {
     "data": {
      "text/plain": [
       "[1, 4, 9, 16, 25]"
      ]
     },
     "execution_count": 46,
     "metadata": {},
     "output_type": "execute_result"
    }
   ],
   "source": [
    "my_list = [1, 2, 3, 4, 5]\n",
    "\n",
    "\n",
    "[i**2 for i in my_list]"
   ]
  },
  {
   "cell_type": "code",
   "execution_count": 47,
   "metadata": {},
   "outputs": [
    {
     "data": {
      "text/plain": [
       "[1, 9, 25]"
      ]
     },
     "execution_count": 47,
     "metadata": {},
     "output_type": "execute_result"
    }
   ],
   "source": [
    "my_list = [1, 2, 3, 4, 5]\n",
    "\n",
    "[i**2 for i in my_list if i%2]"
   ]
  },
  {
   "cell_type": "code",
   "execution_count": 51,
   "metadata": {},
   "outputs": [
    {
     "name": "stdout",
     "output_type": "stream",
     "text": [
      "susan tom 22\n"
     ]
    }
   ],
   "source": [
    "listA = [\"susan\", \"tom\", False, 0, 22]\n",
    "\n",
    "filtred = filter(None, listA)\n",
    "\n",
    "print(*filtred)"
   ]
  },
  {
   "cell_type": "code",
   "execution_count": 52,
   "metadata": {},
   "outputs": [
    {
     "data": {
      "text/plain": [
       "'e'"
      ]
     },
     "execution_count": 52,
     "metadata": {},
     "output_type": "execute_result"
    }
   ],
   "source": [
    "min(\"mesut\")"
   ]
  },
  {
   "cell_type": "code",
   "execution_count": 53,
   "metadata": {},
   "outputs": [
    {
     "data": {
      "text/plain": [
       "'u'"
      ]
     },
     "execution_count": 53,
     "metadata": {},
     "output_type": "execute_result"
    }
   ],
   "source": [
    "max(\"mesut\")"
   ]
  },
  {
   "cell_type": "code",
   "execution_count": null,
   "metadata": {},
   "outputs": [],
   "source": []
  }
 ],
 "metadata": {
  "kernelspec": {
   "display_name": "Python 3.10.1 64-bit",
   "language": "python",
   "name": "python3"
  },
  "language_info": {
   "codemirror_mode": {
    "name": "ipython",
    "version": 3
   },
   "file_extension": ".py",
   "mimetype": "text/x-python",
   "name": "python",
   "nbconvert_exporter": "python",
   "pygments_lexer": "ipython3",
   "version": "3.10.1"
  },
  "orig_nbformat": 4,
  "vscode": {
   "interpreter": {
    "hash": "1d06fc9ed4b774328ae1669b976a7de461f6c6282277a8a3bb34b5a87421f7ca"
   }
  }
 },
 "nbformat": 4,
 "nbformat_minor": 2
}
