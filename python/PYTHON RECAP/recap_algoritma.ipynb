{
 "cells": [
  {
   "cell_type": "code",
   "execution_count": 8,
   "metadata": {},
   "outputs": [
    {
     "name": "stdout",
     "output_type": "stream",
     "text": [
      "13\n"
     ]
    }
   ],
   "source": [
    "# kullanicinin girdigi cümlede en uzun kelimenin uzunlugunu bulma\n",
    "\n",
    "sentence = input(\"aralarında boşluk olacak şekilde bir cümle giriniz\")\n",
    "\n",
    "word = sentence.split()\n",
    "\n",
    "i = 0\n",
    "\n",
    "longest = 0\n",
    "\n",
    "while i < len(word):\n",
    "\n",
    "    if len(word[i]) > longest:\n",
    "       \n",
    "        longest = len(word[i])\n",
    "    i +=1\n",
    "    \n",
    "\n",
    "print(longest)    \n",
    "\n"
   ]
  },
  {
   "cell_type": "code",
   "execution_count": null,
   "metadata": {},
   "outputs": [],
   "source": [
    "# sayı tahmin oyunu\n",
    "\n",
    "answer = 44\n",
    "\n",
    "question = \"What number am I thinking of?\"\n",
    "print(\"let is play the guessing game!\")\n",
    "\n",
    "\n",
    "while True :\n",
    "    guess = int(input(question))\n",
    "\n",
    "    if guess > answer :\n",
    "        print(\"little lower\")\n",
    "    elif guess < answer :\n",
    "        print(\"little higher\") \n",
    "    else:\n",
    "        print(\"'Are you a MINDREADER!!!'\")\n",
    "        break  "
   ]
  },
  {
   "cell_type": "code",
   "execution_count": 3,
   "metadata": {},
   "outputs": [
    {
     "name": "stdout",
     "output_type": "stream",
     "text": [
      "c-l-a-r-u-s-w-a-y"
     ]
    }
   ],
   "source": [
    "word_input = input(\"Give me a word :\")\n",
    "\n",
    "counter = 0\n",
    "\n",
    "for i in word_input:\n",
    "    counter +=1\n",
    "\n",
    "    if counter < len(word_input) :\n",
    "        i = i + \"-\"\n",
    "\n",
    "    print(i, end=\"\")    \n",
    "\n"
   ]
  },
  {
   "cell_type": "code",
   "execution_count": 6,
   "metadata": {},
   "outputs": [
    {
     "name": "stdout",
     "output_type": "stream",
     "text": [
      "c-l-a-r-u-s-w-y\n"
     ]
    }
   ],
   "source": [
    "word = input(\"give me a word :\")\n",
    "\n",
    "liste = []\n",
    "\n",
    "for i in word:\n",
    "    liste.append(i)\n",
    "    liste.append(\"-\")\n",
    "\n",
    "\n",
    "\n",
    "\n",
    "liste_new = \"\".join(liste)\n",
    "\n",
    "print(liste_new.strip(\"-\"))    \n",
    "\n"
   ]
  },
  {
   "cell_type": "code",
   "execution_count": 8,
   "metadata": {},
   "outputs": [
    {
     "name": "stdout",
     "output_type": "stream",
     "text": [
      "0x8= 0\n",
      "1x8= 8\n",
      "2x8= 16\n",
      "3x8= 24\n",
      "4x8= 32\n",
      "5x8= 40\n",
      "6x8= 48\n",
      "7x8= 56\n",
      "8x8= 64\n",
      "9x8= 72\n",
      "10x8= 80\n"
     ]
    }
   ],
   "source": [
    "numbers = int(input(\"enter a number between 1-9\"))\n",
    "\n",
    "\n",
    "for i in range(11):\n",
    "    print(\"{}x{}=\".format(i,numbers), i*numbers)   \n",
    "\n",
    " "
   ]
  },
  {
   "cell_type": "code",
   "execution_count": 14,
   "metadata": {},
   "outputs": [
    {
     "name": "stdout",
     "output_type": "stream",
     "text": [
      "1\n",
      "22\n",
      "333\n",
      "4444\n",
      "55555\n",
      "666666\n",
      "7777777\n",
      "88888888\n",
      "999999999\n"
     ]
    }
   ],
   "source": [
    "for i in range(1,10):\n",
    "    print(str(i)*i)"
   ]
  },
  {
   "cell_type": "code",
   "execution_count": 15,
   "metadata": {},
   "outputs": [
    {
     "data": {
      "text/plain": [
       "'555'"
      ]
     },
     "execution_count": 15,
     "metadata": {},
     "output_type": "execute_result"
    }
   ],
   "source": [
    "\"5\"*3\n"
   ]
  },
  {
   "cell_type": "code",
   "execution_count": 17,
   "metadata": {},
   "outputs": [
    {
     "name": "stdout",
     "output_type": "stream",
     "text": [
      "('one', 1) ('two', 2) ('three', 3) ('four', 4) ('five', 5)\n"
     ]
    }
   ],
   "source": [
    "text = [\"one\", \"two\", \"three\", \"four\", \"five\"]\n",
    "\n",
    "numbers = [1,2,3,4,5]\n",
    "\n",
    "zipped = zip(text, numbers)\n",
    "\n",
    "\n",
    "print(*zipped)"
   ]
  },
  {
   "cell_type": "code",
   "execution_count": 19,
   "metadata": {},
   "outputs": [
    {
     "name": "stdout",
     "output_type": "stream",
     "text": [
      "evens : [0, 2, 4, 6, 8, 10]\n",
      "odds : [1, 3, 5, 7, 9]\n"
     ]
    }
   ],
   "source": [
    "evens = []\n",
    "odds = []\n",
    "\n",
    "for i in range(11):\n",
    "    if i%2 == 0:\n",
    "        evens.append(i)\n",
    "    else:\n",
    "        odds.append(i)\n",
    "\n",
    "print(\"evens :\", evens)\n",
    "print(\"odds :\", odds)            "
   ]
  },
  {
   "cell_type": "code",
   "execution_count": 23,
   "metadata": {},
   "outputs": [
    {
     "name": "stdout",
     "output_type": "stream",
     "text": [
      "evens : 6\n",
      "odds : [1, 3, 5, 7, 9]\n"
     ]
    }
   ],
   "source": [
    "evens = []\n",
    "odds = []\n",
    "\n",
    "for i in range(11):\n",
    "    if i%2 == 0:\n",
    "        evens.append(i)\n",
    "    else:\n",
    "        odds.append(i)\n",
    "\n",
    "print(\"evens :\", len(evens))\n",
    "print(\"odds :\", odds)   "
   ]
  },
  {
   "cell_type": "code",
   "execution_count": 25,
   "metadata": {},
   "outputs": [
    {
     "name": "stdout",
     "output_type": "stream",
     "text": [
      "40\n"
     ]
    }
   ],
   "source": [
    "def calculator(x,y, opr):\n",
    "    if opr == \"+\":\n",
    "        print(x+y)\n",
    "    elif opr == \"-\":\n",
    "        print(x-y)\n",
    "    elif opr == \"/\":\n",
    "        print(x/y)\n",
    "    elif opr == \"*\":\n",
    "        print(x*y)\n",
    "    else:\n",
    "        print(\"hatalı giriş\")     \n",
    "\n",
    "\n",
    "calculator(8, 5,\"*\")"
   ]
  },
  {
   "cell_type": "code",
   "execution_count": 26,
   "metadata": {},
   "outputs": [
    {
     "name": "stdout",
     "output_type": "stream",
     "text": [
      "hatalı giriş\n"
     ]
    }
   ],
   "source": [
    "calculator(8, 5,\"ğ\")"
   ]
  },
  {
   "cell_type": "code",
   "execution_count": 29,
   "metadata": {},
   "outputs": [
    {
     "name": "stdout",
     "output_type": "stream",
     "text": [
      "1.6\n",
      "3\n",
      "13\n"
     ]
    }
   ],
   "source": [
    "calculator(8, 5,\"/\")\n",
    "calculator(8, 5,\"-\")\n",
    "calculator(8, 5,\"+\")"
   ]
  },
  {
   "cell_type": "code",
   "execution_count": 30,
   "metadata": {},
   "outputs": [],
   "source": [
    "def absolute_value(num):\n",
    "\n",
    "    if num >= 0:\n",
    "        print(num)\n",
    "\n",
    "    else :\n",
    "        return -num    "
   ]
  },
  {
   "cell_type": "code",
   "execution_count": 31,
   "metadata": {},
   "outputs": [
    {
     "data": {
      "text/plain": [
       "13"
      ]
     },
     "execution_count": 31,
     "metadata": {},
     "output_type": "execute_result"
    }
   ],
   "source": [
    "absolute_value(-13)"
   ]
  },
  {
   "cell_type": "code",
   "execution_count": 33,
   "metadata": {},
   "outputs": [
    {
     "data": {
      "text/plain": [
       "[0, 1, 4, 9, 16, 25]"
      ]
     },
     "execution_count": 33,
     "metadata": {},
     "output_type": "execute_result"
    }
   ],
   "source": [
    "yeni_listem = [i**2 for i in range(6)]\n",
    "\n",
    "yeni_listem"
   ]
  },
  {
   "cell_type": "code",
   "execution_count": 35,
   "metadata": {},
   "outputs": [
    {
     "name": "stdout",
     "output_type": "stream",
     "text": [
      "[0, 1, 4, 9, 16, 25]\n"
     ]
    }
   ],
   "source": [
    "x = [i**2 for i in range(6)]\n",
    "\n",
    "print(x)"
   ]
  },
  {
   "cell_type": "code",
   "execution_count": 37,
   "metadata": {},
   "outputs": [
    {
     "name": "stdout",
     "output_type": "stream",
     "text": [
      "[0, 1, 4, 9, 16, 25]\n"
     ]
    }
   ],
   "source": [
    "liste = []\n",
    "\n",
    "for i in range(6):\n",
    "    liste.append(i**2)\n",
    "\n",
    "print(liste)    "
   ]
  },
  {
   "cell_type": "code",
   "execution_count": 38,
   "metadata": {},
   "outputs": [
    {
     "name": "stdout",
     "output_type": "stream",
     "text": [
      "<generator object <genexpr> at 0x0000020EF3371B60>\n"
     ]
    }
   ],
   "source": [
    "x = (i**2 for i in range(6))\n",
    "\n",
    "print(x)"
   ]
  },
  {
   "cell_type": "code",
   "execution_count": 39,
   "metadata": {},
   "outputs": [
    {
     "name": "stdout",
     "output_type": "stream",
     "text": [
      "i love you\n"
     ]
    }
   ],
   "source": [
    "a = \"i\"\n",
    "b = \"love\"\n",
    "c = \"you\"\n",
    "\n",
    "def texter(text1, text2, text3):\n",
    "    print(text2, text3, text1)\n",
    "\n",
    "\n",
    "texter(c, a, b)"
   ]
  },
  {
   "cell_type": "markdown",
   "metadata": {},
   "source": [
    "## Armstrong Numbers"
   ]
  },
  {
   "cell_type": "code",
   "execution_count": 45,
   "metadata": {},
   "outputs": [
    {
     "name": "stdout",
     "output_type": "stream",
     "text": [
      "0  is an Armstrong Number\n"
     ]
    }
   ],
   "source": [
    "while True :\n",
    "    \n",
    "    number = input(\"enter a positive integer number :\")\n",
    "    digits = len(number)\n",
    "    summ = 0\n",
    "    \n",
    "    if not number.isdigit() :\n",
    "        print(number, \" is invalid entry. Enter valid input.\")\n",
    "        \n",
    "    elif int(number) >= 0 :\n",
    "        for i in range(digits) :\n",
    "            \n",
    "            summ = summ + int(number[i]) ** digits\n",
    "        \n",
    "        if summ == int(number):\n",
    "            print(number, \" is an Armstrong Number\")\n",
    "            break\n",
    "            \n",
    "        else :\n",
    "            print(number, \"is not an Armstrong Number\")\n",
    "            break"
   ]
  },
  {
   "cell_type": "code",
   "execution_count": 46,
   "metadata": {},
   "outputs": [
    {
     "name": "stdout",
     "output_type": "stream",
     "text": [
      "True\n"
     ]
    }
   ],
   "source": [
    "str1 = \"342\"\n",
    "\n",
    "print(str1.isdigit())"
   ]
  },
  {
   "cell_type": "code",
   "execution_count": 67,
   "metadata": {},
   "outputs": [
    {
     "name": "stdout",
     "output_type": "stream",
     "text": [
      "63105425988599693916 num is armstrong number\n"
     ]
    }
   ],
   "source": [
    "num= input(\"enter a number :\")\n",
    "\n",
    "digit = len(num)\n",
    "\n",
    "sum = 0\n",
    "\n",
    "\n",
    "for i in range(digit):\n",
    "    sum = sum + int(num[i])**digit\n",
    "\n",
    "if sum == int(num):\n",
    "    print(num ,\"num is armstrong number\")\n",
    "\n",
    "else:\n",
    "    print(num, \"num is not armstrong number\")\n",
    "   \n",
    "\n",
    "\n",
    "\n"
   ]
  },
  {
   "cell_type": "code",
   "execution_count": null,
   "metadata": {},
   "outputs": [],
   "source": []
  }
 ],
 "metadata": {
  "kernelspec": {
   "display_name": "Python 3.10.1 64-bit",
   "language": "python",
   "name": "python3"
  },
  "language_info": {
   "codemirror_mode": {
    "name": "ipython",
    "version": 3
   },
   "file_extension": ".py",
   "mimetype": "text/x-python",
   "name": "python",
   "nbconvert_exporter": "python",
   "pygments_lexer": "ipython3",
   "version": "3.10.1"
  },
  "orig_nbformat": 4,
  "vscode": {
   "interpreter": {
    "hash": "1d06fc9ed4b774328ae1669b976a7de461f6c6282277a8a3bb34b5a87421f7ca"
   }
  }
 },
 "nbformat": 4,
 "nbformat_minor": 2
}
