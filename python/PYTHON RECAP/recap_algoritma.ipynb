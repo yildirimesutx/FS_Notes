{
 "cells": [
  {
   "cell_type": "code",
   "execution_count": 8,
   "metadata": {},
   "outputs": [
    {
     "name": "stdout",
     "output_type": "stream",
     "text": [
      "13\n"
     ]
    }
   ],
   "source": [
    "# kullanicinin girdigi cümlede en uzun kelimenin uzunlugunu bulma\n",
    "\n",
    "sentence = input(\"aralarında boşluk olacak şekilde bir cümle giriniz\")\n",
    "\n",
    "word = sentence.split()\n",
    "\n",
    "i = 0\n",
    "\n",
    "longest = 0\n",
    "\n",
    "while i < len(word):\n",
    "\n",
    "    if len(word[i]) > longest:\n",
    "       \n",
    "        longest = len(word[i])\n",
    "    i +=1\n",
    "    \n",
    "\n",
    "print(longest)    \n",
    "\n"
   ]
  },
  {
   "cell_type": "code",
   "execution_count": null,
   "metadata": {},
   "outputs": [],
   "source": [
    "# sayı tahmin oyunu\n",
    "\n",
    "answer = 44\n",
    "\n",
    "question = \"What number am I thinking of?\"\n",
    "print(\"let is play the guessing game!\")\n",
    "\n",
    "\n",
    "while True :\n",
    "    guess = int(input(question))\n",
    "\n",
    "    if guess > answer :\n",
    "        print(\"little lower\")\n",
    "    elif guess < answer :\n",
    "        print(\"little higher\") \n",
    "    else:\n",
    "        print(\"'Are you a MINDREADER!!!'\")\n",
    "        break  "
   ]
  },
  {
   "cell_type": "code",
   "execution_count": 3,
   "metadata": {},
   "outputs": [
    {
     "name": "stdout",
     "output_type": "stream",
     "text": [
      "c-l-a-r-u-s-w-a-y"
     ]
    }
   ],
   "source": [
    "word_input = input(\"Give me a word :\")\n",
    "\n",
    "counter = 0\n",
    "\n",
    "for i in word_input:\n",
    "    counter +=1\n",
    "\n",
    "    if counter < len(word_input) :\n",
    "        i = i + \"-\"\n",
    "\n",
    "    print(i, end=\"\")    \n",
    "\n"
   ]
  },
  {
   "cell_type": "code",
   "execution_count": 6,
   "metadata": {},
   "outputs": [
    {
     "name": "stdout",
     "output_type": "stream",
     "text": [
      "c-l-a-r-u-s-w-y\n"
     ]
    }
   ],
   "source": [
    "word = input(\"give me a word :\")\n",
    "\n",
    "liste = []\n",
    "\n",
    "for i in word:\n",
    "    liste.append(i)\n",
    "    liste.append(\"-\")\n",
    "\n",
    "\n",
    "\n",
    "\n",
    "liste_new = \"\".join(liste)\n",
    "\n",
    "print(liste_new.strip(\"-\"))    \n",
    "\n"
   ]
  },
  {
   "cell_type": "code",
   "execution_count": 8,
   "metadata": {},
   "outputs": [
    {
     "name": "stdout",
     "output_type": "stream",
     "text": [
      "0x8= 0\n",
      "1x8= 8\n",
      "2x8= 16\n",
      "3x8= 24\n",
      "4x8= 32\n",
      "5x8= 40\n",
      "6x8= 48\n",
      "7x8= 56\n",
      "8x8= 64\n",
      "9x8= 72\n",
      "10x8= 80\n"
     ]
    }
   ],
   "source": [
    "numbers = int(input(\"enter a number between 1-9\"))\n",
    "\n",
    "\n",
    "for i in range(11):\n",
    "    print(\"{}x{}=\".format(i,numbers), i*numbers)   \n",
    "\n",
    " "
   ]
  },
  {
   "cell_type": "code",
   "execution_count": 14,
   "metadata": {},
   "outputs": [
    {
     "name": "stdout",
     "output_type": "stream",
     "text": [
      "1\n",
      "22\n",
      "333\n",
      "4444\n",
      "55555\n",
      "666666\n",
      "7777777\n",
      "88888888\n",
      "999999999\n"
     ]
    }
   ],
   "source": [
    "for i in range(1,10):\n",
    "    print(str(i)*i)"
   ]
  },
  {
   "cell_type": "code",
   "execution_count": 15,
   "metadata": {},
   "outputs": [
    {
     "data": {
      "text/plain": [
       "'555'"
      ]
     },
     "execution_count": 15,
     "metadata": {},
     "output_type": "execute_result"
    }
   ],
   "source": [
    "\"5\"*3\n"
   ]
  },
  {
   "cell_type": "code",
   "execution_count": 17,
   "metadata": {},
   "outputs": [
    {
     "name": "stdout",
     "output_type": "stream",
     "text": [
      "('one', 1) ('two', 2) ('three', 3) ('four', 4) ('five', 5)\n"
     ]
    }
   ],
   "source": [
    "text = [\"one\", \"two\", \"three\", \"four\", \"five\"]\n",
    "\n",
    "numbers = [1,2,3,4,5]\n",
    "\n",
    "zipped = zip(text, numbers)\n",
    "\n",
    "\n",
    "print(*zipped)"
   ]
  },
  {
   "cell_type": "code",
   "execution_count": 19,
   "metadata": {},
   "outputs": [
    {
     "name": "stdout",
     "output_type": "stream",
     "text": [
      "evens : [0, 2, 4, 6, 8, 10]\n",
      "odds : [1, 3, 5, 7, 9]\n"
     ]
    }
   ],
   "source": [
    "evens = []\n",
    "odds = []\n",
    "\n",
    "for i in range(11):\n",
    "    if i%2 == 0:\n",
    "        evens.append(i)\n",
    "    else:\n",
    "        odds.append(i)\n",
    "\n",
    "print(\"evens :\", evens)\n",
    "print(\"odds :\", odds)            "
   ]
  },
  {
   "cell_type": "code",
   "execution_count": 23,
   "metadata": {},
   "outputs": [
    {
     "name": "stdout",
     "output_type": "stream",
     "text": [
      "evens : 6\n",
      "odds : [1, 3, 5, 7, 9]\n"
     ]
    }
   ],
   "source": [
    "evens = []\n",
    "odds = []\n",
    "\n",
    "for i in range(11):\n",
    "    if i%2 == 0:\n",
    "        evens.append(i)\n",
    "    else:\n",
    "        odds.append(i)\n",
    "\n",
    "print(\"evens :\", len(evens))\n",
    "print(\"odds :\", odds)   "
   ]
  },
  {
   "cell_type": "code",
   "execution_count": 25,
   "metadata": {},
   "outputs": [
    {
     "name": "stdout",
     "output_type": "stream",
     "text": [
      "40\n"
     ]
    }
   ],
   "source": [
    "def calculator(x,y, opr):\n",
    "    if opr == \"+\":\n",
    "        print(x+y)\n",
    "    elif opr == \"-\":\n",
    "        print(x-y)\n",
    "    elif opr == \"/\":\n",
    "        print(x/y)\n",
    "    elif opr == \"*\":\n",
    "        print(x*y)\n",
    "    else:\n",
    "        print(\"hatalı giriş\")     \n",
    "\n",
    "\n",
    "calculator(8, 5,\"*\")"
   ]
  },
  {
   "cell_type": "code",
   "execution_count": 26,
   "metadata": {},
   "outputs": [
    {
     "name": "stdout",
     "output_type": "stream",
     "text": [
      "hatalı giriş\n"
     ]
    }
   ],
   "source": [
    "calculator(8, 5,\"ğ\")"
   ]
  },
  {
   "cell_type": "code",
   "execution_count": 29,
   "metadata": {},
   "outputs": [
    {
     "name": "stdout",
     "output_type": "stream",
     "text": [
      "1.6\n",
      "3\n",
      "13\n"
     ]
    }
   ],
   "source": [
    "calculator(8, 5,\"/\")\n",
    "calculator(8, 5,\"-\")\n",
    "calculator(8, 5,\"+\")"
   ]
  },
  {
   "cell_type": "code",
   "execution_count": 30,
   "metadata": {},
   "outputs": [],
   "source": [
    "def absolute_value(num):\n",
    "\n",
    "    if num >= 0:\n",
    "        print(num)\n",
    "\n",
    "    else :\n",
    "        return -num    "
   ]
  },
  {
   "cell_type": "code",
   "execution_count": 31,
   "metadata": {},
   "outputs": [
    {
     "data": {
      "text/plain": [
       "13"
      ]
     },
     "execution_count": 31,
     "metadata": {},
     "output_type": "execute_result"
    }
   ],
   "source": [
    "absolute_value(-13)"
   ]
  },
  {
   "cell_type": "code",
   "execution_count": 33,
   "metadata": {},
   "outputs": [
    {
     "data": {
      "text/plain": [
       "[0, 1, 4, 9, 16, 25]"
      ]
     },
     "execution_count": 33,
     "metadata": {},
     "output_type": "execute_result"
    }
   ],
   "source": [
    "yeni_listem = [i**2 for i in range(6)]\n",
    "\n",
    "yeni_listem"
   ]
  },
  {
   "cell_type": "code",
   "execution_count": 35,
   "metadata": {},
   "outputs": [
    {
     "name": "stdout",
     "output_type": "stream",
     "text": [
      "[0, 1, 4, 9, 16, 25]\n"
     ]
    }
   ],
   "source": [
    "x = [i**2 for i in range(6)]\n",
    "\n",
    "print(x)"
   ]
  },
  {
   "cell_type": "code",
   "execution_count": 37,
   "metadata": {},
   "outputs": [
    {
     "name": "stdout",
     "output_type": "stream",
     "text": [
      "[0, 1, 4, 9, 16, 25]\n"
     ]
    }
   ],
   "source": [
    "liste = []\n",
    "\n",
    "for i in range(6):\n",
    "    liste.append(i**2)\n",
    "\n",
    "print(liste)    "
   ]
  },
  {
   "cell_type": "code",
   "execution_count": 38,
   "metadata": {},
   "outputs": [
    {
     "name": "stdout",
     "output_type": "stream",
     "text": [
      "<generator object <genexpr> at 0x0000020EF3371B60>\n"
     ]
    }
   ],
   "source": [
    "x = (i**2 for i in range(6))\n",
    "\n",
    "print(x)"
   ]
  },
  {
   "cell_type": "code",
   "execution_count": 39,
   "metadata": {},
   "outputs": [
    {
     "name": "stdout",
     "output_type": "stream",
     "text": [
      "i love you\n"
     ]
    }
   ],
   "source": [
    "a = \"i\"\n",
    "b = \"love\"\n",
    "c = \"you\"\n",
    "\n",
    "def texter(text1, text2, text3):\n",
    "    print(text2, text3, text1)\n",
    "\n",
    "\n",
    "texter(c, a, b)"
   ]
  },
  {
   "cell_type": "markdown",
   "metadata": {},
   "source": [
    "## Armstrong Numbers"
   ]
  },
  {
   "cell_type": "code",
   "execution_count": 45,
   "metadata": {},
   "outputs": [
    {
     "name": "stdout",
     "output_type": "stream",
     "text": [
      "0  is an Armstrong Number\n"
     ]
    }
   ],
   "source": [
    "while True :\n",
    "    \n",
    "    number = input(\"enter a positive integer number :\")\n",
    "    digits = len(number)\n",
    "    summ = 0\n",
    "    \n",
    "    if not number.isdigit() :\n",
    "        print(number, \" is invalid entry. Enter valid input.\")\n",
    "        \n",
    "    elif int(number) >= 0 :\n",
    "        for i in range(digits) :\n",
    "            \n",
    "            summ = summ + int(number[i]) ** digits\n",
    "        \n",
    "        if summ == int(number):\n",
    "            print(number, \" is an Armstrong Number\")\n",
    "            break\n",
    "            \n",
    "        else :\n",
    "            print(number, \"is not an Armstrong Number\")\n",
    "            break"
   ]
  },
  {
   "cell_type": "code",
   "execution_count": 46,
   "metadata": {},
   "outputs": [
    {
     "name": "stdout",
     "output_type": "stream",
     "text": [
      "True\n"
     ]
    }
   ],
   "source": [
    "str1 = \"342\"\n",
    "\n",
    "print(str1.isdigit())"
   ]
  },
  {
   "cell_type": "code",
   "execution_count": 67,
   "metadata": {},
   "outputs": [
    {
     "name": "stdout",
     "output_type": "stream",
     "text": [
      "63105425988599693916 num is armstrong number\n"
     ]
    }
   ],
   "source": [
    "num= input(\"enter a number :\")\n",
    "\n",
    "digit = len(num)\n",
    "\n",
    "sum = 0\n",
    "\n",
    "\n",
    "for i in range(digit):\n",
    "    sum = sum + int(num[i])**digit\n",
    "\n",
    "if sum == int(num):\n",
    "    print(num ,\"num is armstrong number\")\n",
    "\n",
    "else:\n",
    "    print(num, \"num is not armstrong number\")\n",
    "   \n",
    "\n",
    "\n",
    "\n"
   ]
  },
  {
   "cell_type": "code",
   "execution_count": null,
   "metadata": {},
   "outputs": [],
   "source": [
    "## is it a Prime Number?"
   ]
  },
  {
   "cell_type": "code",
   "execution_count": 7,
   "metadata": {},
   "outputs": [
    {
     "name": "stdout",
     "output_type": "stream",
     "text": [
      "3 num is prime number\n"
     ]
    }
   ],
   "source": [
    "num = int(input(\"enter a number :\"))\n",
    "\n",
    "\n",
    "counter = 0\n",
    "\n",
    "for i in range(1,num+1):\n",
    "    if num % i == 0:\n",
    "        counter += 1\n",
    "\n",
    "if (num==0) or (num==1) or (counter >= 3) :\n",
    "    print(num, \"num is not prime number \")\n",
    "\n",
    "else:\n",
    "    print(num,  \"num is prime number\")    \n",
    "\n"
   ]
  },
  {
   "cell_type": "code",
   "execution_count": 9,
   "metadata": {},
   "outputs": [
    {
     "data": {
      "text/plain": [
       "'odd'"
      ]
     },
     "execution_count": 9,
     "metadata": {},
     "output_type": "execute_result"
    }
   ],
   "source": [
    "num = lambda x : \"odd\" if x % 2 !=0 else \"even\"\n",
    "\n",
    "num(11)\n",
    "\n",
    "\n"
   ]
  },
  {
   "cell_type": "code",
   "execution_count": 10,
   "metadata": {},
   "outputs": [
    {
     "data": {
      "text/plain": [
       "'even'"
      ]
     },
     "execution_count": 10,
     "metadata": {},
     "output_type": "execute_result"
    }
   ],
   "source": [
    "num = lambda x : \"even\" if x%2 == 0 else \"odd\"\n",
    "\n",
    "num(12)"
   ]
  },
  {
   "cell_type": "code",
   "execution_count": 11,
   "metadata": {},
   "outputs": [
    {
     "name": "stdout",
     "output_type": "stream",
     "text": [
      "0 : even\n",
      "1 : odd\n",
      "2 : even\n",
      "3 : odd\n",
      "4 : even\n",
      "5 : odd\n",
      "6 : even\n",
      "7 : odd\n",
      "8 : even\n",
      "9 : odd\n",
      "10 : even\n",
      "11 : odd\n",
      "12 : even\n",
      "13 : odd\n",
      "14 : even\n",
      "15 : odd\n",
      "16 : even\n",
      "17 : odd\n",
      "18 : even\n",
      "19 : odd\n",
      "20 : even\n"
     ]
    }
   ],
   "source": [
    "for a in range(21):\n",
    "    print(a, \":\", (lambda x : \"even\" if x%2 == 0 else \"odd\")(a))"
   ]
  },
  {
   "cell_type": "code",
   "execution_count": 14,
   "metadata": {},
   "outputs": [],
   "source": [
    "import datetime"
   ]
  },
  {
   "cell_type": "code",
   "execution_count": 15,
   "metadata": {},
   "outputs": [
    {
     "name": "stdout",
     "output_type": "stream",
     "text": [
      "2022-08-09\n"
     ]
    }
   ],
   "source": [
    "print(datetime.date.today())"
   ]
  },
  {
   "cell_type": "code",
   "execution_count": 17,
   "metadata": {},
   "outputs": [
    {
     "name": "stdout",
     "output_type": "stream",
     "text": [
      "2022-08-09 21:56:44.544313\n"
     ]
    }
   ],
   "source": [
    "print(datetime.datetime.now())"
   ]
  },
  {
   "cell_type": "code",
   "execution_count": null,
   "metadata": {},
   "outputs": [],
   "source": [
    "# An extra day is added to the calendar almost every four years as February 29, and the day is called a leap day. It corrects the calendar for the fact that our planet takes approximately 365.25 days to orbit the sun. A leap year contains a leap day.\n",
    "\n",
    "# In the Gregorian calendar, three conditions are used to identify leap years:\n",
    "\n",
    "# The year can be evenly divided by 4, is a leap year, unless:\n",
    "# The year can be evenly divided by 100, it is NOT a leap year, unless:\n",
    "# The year is also evenly divisible by 400. Then it is a leap year.\n",
    "# This means that in the Gregorian calendar, the years 2000 and 2400 are leap years, while 1800, 1900, 2100, 2200, 2300 and 2500 are NOT leap years. Source"
   ]
  },
  {
   "cell_type": "code",
   "execution_count": 2,
   "metadata": {},
   "outputs": [
    {
     "name": "stdout",
     "output_type": "stream",
     "text": [
      "True\n"
     ]
    }
   ],
   "source": [
    "def is_leap(year):   \n",
    "    if year % 4 ==0 :\n",
    "        if year % 100 == 0:\n",
    "            if year % 400 == 0: \n",
    "               year=True\n",
    "            else :\n",
    "               year =False       \n",
    "        else :\n",
    "              year=False \n",
    "\n",
    "    else :\n",
    "      year = False          \n",
    "    return year\n",
    "   \n",
    "year = int(input())\n",
    "print(is_leap(year))"
   ]
  },
  {
   "cell_type": "code",
   "execution_count": null,
   "metadata": {},
   "outputs": [],
   "source": [
    "# The included code stub will read an integer, , from STDIN.\n",
    "\n",
    "# Without using any string methods, try to print the following:\n",
    "\n",
    "\n",
    "# Note that \"\" represents the consecutive values in between.\n",
    "\n",
    "# Example\n",
    "\n",
    "# Print the string ."
   ]
  },
  {
   "cell_type": "code",
   "execution_count": null,
   "metadata": {},
   "outputs": [],
   "source": [
    "n = int(input())\n",
    "\n",
    "\n",
    "liste = list(range(1, n+1))\n",
    "bos=[]\n",
    "\n",
    "for i in liste:\n",
    "   bos.append(str(i))\n",
    "\n",
    "k = \"\".join(bos)\n",
    "\n",
    "print(k)"
   ]
  },
  {
   "cell_type": "code",
   "execution_count": null,
   "metadata": {},
   "outputs": [],
   "source": [
    "# Let's learn about list comprehensions! You are given three integers x, y and z representing the dimensions of a cuboid along with an integer n . Print a list of all possible coordinates given by (i,j,k)  on a 3D grid where the sum of i+j+k is not equal to n."
   ]
  },
  {
   "cell_type": "code",
   "execution_count": null,
   "metadata": {},
   "outputs": [],
   "source": [
    "x = int(input())\n",
    "y = int(input())\n",
    "z = int(input())\n",
    "n = int(input())\n",
    "\n",
    "    \n",
    "out = []\n",
    "\n",
    "for i in list(range(x+1)):\n",
    "    for j in list(range(y+1)):\n",
    "        for k in list(range(z+1)):\n",
    "           if i + j + k != n:\n",
    "               out.append([i, j, k]) \n",
    "\n",
    "print(out) "
   ]
  },
  {
   "cell_type": "code",
   "execution_count": null,
   "metadata": {},
   "outputs": [],
   "source": [
    "# Given the participants' score sheet for your University Sports Day, you are required to find the runner-up score. You are given n  scores. Store them in a list and find the score of the runner-up.\n",
    "\n",
    "# Input Format\n",
    "\n",
    "# The first line contains n. The second line contains an array   A[] of n integers each separated by a space."
   ]
  },
  {
   "cell_type": "markdown",
   "metadata": {},
   "source": [
    "#! BASEBALL GAME"
   ]
  },
  {
   "cell_type": "code",
   "execution_count": null,
   "metadata": {},
   "outputs": [],
   "source": [
    "# You are keeping score for a baseball game with strange rules. The game consist of several rounds, where the\n",
    "# scores of past rounds may affect future rounds' scores.\n",
    "# At the beginning of the game, you start with an empty record. You are given a list of strings ops, where\n",
    "# ops[i] is the ith operation you must apply to the record and is one of the following:\n",
    "# An integer x - Record a new score of x,\n",
    "# \"+\" - Record a new score that is the sum of the previous scores. It is guaranteed there will always be\n",
    "# two previous scores.\n",
    "# \"D\" - Record a new score that is double the previous score. It is guaranteed there will always be a\n",
    "# previous score.\n",
    "# \"C\" - Invalidate the pevious score, removing it from the record. It is guaranteed there will always be a\n",
    "# previous score.\n",
    "# Return the sum of all the scores on the record.\n"
   ]
  },
  {
   "cell_type": "code",
   "execution_count": null,
   "metadata": {},
   "outputs": [],
   "source": [
    "Examples:\n",
    "\n",
    "\n",
    "Input: ops = [\"5\", \"2\", \"C\", \"D\", \"+\"]\n",
    "Output: 30\n",
    "\n",
    "\n",
    "Input: ops = [\"5\", \"-2\", \"4\", \"C\", \"D\", \"9\", \"+\", \"+\"]\n",
    "Output: 27\n"
   ]
  },
  {
   "cell_type": "code",
   "execution_count": 45,
   "metadata": {},
   "outputs": [
    {
     "name": "stdout",
     "output_type": "stream",
     "text": [
      "30\n"
     ]
    }
   ],
   "source": [
    "ops = [\"5\", \"2\", \"C\", \"D\", \"+\"]\n",
    "\n",
    "new=[]\n",
    "\n",
    "\n",
    "for i in ops :\n",
    "   \n",
    "    if i == \"D\":\n",
    "        new.append(int(new[-1])*2)\n",
    "    elif i == \"+\":\n",
    "       new.append(int(new[-1])+ int(new[-2]))\n",
    "    elif i ==  \"C\": \n",
    "       new.pop()\n",
    "    else:\n",
    "        new.append(int(i))   \n",
    "\n",
    "\n",
    "print(sum(new))  \n",
    "\n",
    "\n",
    "\n",
    "\n",
    "\n",
    "    \n",
    "\n"
   ]
  },
  {
   "cell_type": "code",
   "execution_count": 26,
   "metadata": {},
   "outputs": [
    {
     "ename": "ValueError",
     "evalue": "invalid literal for int() with base 10: 'D'",
     "output_type": "error",
     "traceback": [
      "\u001b[1;31m---------------------------------------------------------------------------\u001b[0m",
      "\u001b[1;31mValueError\u001b[0m                                Traceback (most recent call last)",
      "\u001b[1;32m~\\AppData\\Local\\Temp/ipykernel_7356/147460699.py\u001b[0m in \u001b[0;36m<module>\u001b[1;34m\u001b[0m\n\u001b[0;32m      2\u001b[0m \u001b[0mk\u001b[0m \u001b[1;33m=\u001b[0m \u001b[1;34m\"D\"\u001b[0m\u001b[1;33m\u001b[0m\u001b[1;33m\u001b[0m\u001b[0m\n\u001b[0;32m      3\u001b[0m \u001b[1;33m\u001b[0m\u001b[0m\n\u001b[1;32m----> 4\u001b[1;33m \u001b[0ml\u001b[0m \u001b[1;33m=\u001b[0m \u001b[0mint\u001b[0m\u001b[1;33m(\u001b[0m\u001b[0mk\u001b[0m\u001b[1;33m)\u001b[0m\u001b[1;33m\u001b[0m\u001b[1;33m\u001b[0m\u001b[0m\n\u001b[0m\u001b[0;32m      5\u001b[0m \u001b[1;31m# b = int(a)\u001b[0m\u001b[1;33m\u001b[0m\u001b[1;33m\u001b[0m\u001b[0m\n\u001b[0;32m      6\u001b[0m \u001b[1;31m# print(b+ 5)\u001b[0m\u001b[1;33m\u001b[0m\u001b[1;33m\u001b[0m\u001b[0m\n",
      "\u001b[1;31mValueError\u001b[0m: invalid literal for int() with base 10: 'D'"
     ]
    }
   ],
   "source": []
  },
  {
   "cell_type": "code",
   "execution_count": 48,
   "metadata": {},
   "outputs": [
    {
     "name": "stdout",
     "output_type": "stream",
     "text": [
      "23\n"
     ]
    }
   ],
   "source": [
    "ops = [\"5\", \"2\", \"6\", \"4\", \"3\"]\n",
    "\n",
    "ops = [3,4,8,8]\n",
    "\n",
    "\n",
    "# b = int(ops)\n",
    "\n",
    "print(sum(ops))\n",
    "\n",
    "\n",
    "\n",
    "\n",
    "      "
   ]
  },
  {
   "cell_type": "code",
   "execution_count": null,
   "metadata": {},
   "outputs": [],
   "source": []
  }
 ],
 "metadata": {
  "kernelspec": {
   "display_name": "Python 3.10.1 64-bit",
   "language": "python",
   "name": "python3"
  },
  "language_info": {
   "codemirror_mode": {
    "name": "ipython",
    "version": 3
   },
   "file_extension": ".py",
   "mimetype": "text/x-python",
   "name": "python",
   "nbconvert_exporter": "python",
   "pygments_lexer": "ipython3",
   "version": "3.10.1"
  },
  "orig_nbformat": 4,
  "vscode": {
   "interpreter": {
    "hash": "1d06fc9ed4b774328ae1669b976a7de461f6c6282277a8a3bb34b5a87421f7ca"
   }
  }
 },
 "nbformat": 4,
 "nbformat_minor": 2
}
