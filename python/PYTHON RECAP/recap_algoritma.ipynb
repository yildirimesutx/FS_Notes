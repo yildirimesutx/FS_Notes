{
 "cells": [
  {
   "cell_type": "code",
   "execution_count": 8,
   "metadata": {},
   "outputs": [
    {
     "name": "stdout",
     "output_type": "stream",
     "text": [
      "13\n"
     ]
    }
   ],
   "source": [
    "# kullanicinin girdigi cümlede en uzun kelimenin uzunlugunu bulma\n",
    "\n",
    "sentence = input(\"aralarında boşluk olacak şekilde bir cümle giriniz\")\n",
    "\n",
    "word = sentence.split()\n",
    "\n",
    "i = 0\n",
    "\n",
    "longest = 0\n",
    "\n",
    "while i < len(word):\n",
    "\n",
    "    if len(word[i]) > longest:\n",
    "       \n",
    "        longest = len(word[i])\n",
    "    i +=1\n",
    "    \n",
    "\n",
    "print(longest)    \n",
    "\n"
   ]
  },
  {
   "cell_type": "code",
   "execution_count": null,
   "metadata": {},
   "outputs": [],
   "source": [
    "# sayı tahmin oyunu\n",
    "\n",
    "answer = 44\n",
    "\n",
    "question = \"What number am I thinking of?\"\n",
    "print(\"let is play the guessing game!\")\n",
    "\n",
    "\n",
    "while True :\n",
    "    guess = int(input(question))\n",
    "\n",
    "    if guess > answer :\n",
    "        print(\"little lower\")\n",
    "    elif guess < answer :\n",
    "        print(\"little higher\") \n",
    "    else:\n",
    "        print(\"'Are you a MINDREADER!!!'\")\n",
    "        break  "
   ]
  }
 ],
 "metadata": {
  "kernelspec": {
   "display_name": "Python 3.10.1 64-bit",
   "language": "python",
   "name": "python3"
  },
  "language_info": {
   "codemirror_mode": {
    "name": "ipython",
    "version": 3
   },
   "file_extension": ".py",
   "mimetype": "text/x-python",
   "name": "python",
   "nbconvert_exporter": "python",
   "pygments_lexer": "ipython3",
   "version": "3.10.1"
  },
  "orig_nbformat": 4,
  "vscode": {
   "interpreter": {
    "hash": "1d06fc9ed4b774328ae1669b976a7de461f6c6282277a8a3bb34b5a87421f7ca"
   }
  }
 },
 "nbformat": 4,
 "nbformat_minor": 2
}
